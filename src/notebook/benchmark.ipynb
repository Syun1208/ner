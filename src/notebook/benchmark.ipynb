{
 "cells": [
  {
   "cell_type": "code",
   "execution_count": 3,
   "metadata": {},
   "outputs": [],
   "source": [
    "import polars as pl\n",
    "import numpy as np"
   ]
  },
  {
   "cell_type": "code",
   "execution_count": 6,
   "metadata": {},
   "outputs": [],
   "source": [
    "data = pl.read_csv(\"./output_hybrib_search.csv\", encoding='iso-8859-1', use_pyarrow=True)"
   ]
  },
  {
   "cell_type": "code",
   "execution_count": 42,
   "metadata": {},
   "outputs": [
    {
     "name": "stderr",
     "output_type": "stream",
     "text": [
      "100%|\u001b[32m██████████\u001b[0m| 1744/1744 [1:15:22<00:00,  2.59s/it]\n"
     ]
    }
   ],
   "source": [
    "from ollama import chat\n",
    "from pydantic import BaseModel\n",
    "from typing import List\n",
    "import tqdm\n",
    "\n",
    "class Verify(BaseModel):\n",
    "    matching: int\n",
    "\n",
    "verify = []\n",
    "\n",
    "for i in tqdm.tqdm(range(data.shape[0]), colour='green'):\n",
    "    \n",
    "    query = data['Question'][i]\n",
    "    ground_truth = data['Sample'][i]\n",
    "    hybrid_search = data['AnswerbyHybribsearch'][i]\n",
    "    \n",
    "    \n",
    "    context = f''' \n",
    "        I have a question: {query}\n",
    "\n",
    "        This is the correct answer: {ground_truth}\n",
    "\n",
    "        This is the predicted answer: {hybrid_search}\n",
    "\n",
    "        Please help me verify whether the correct answer and the predicted answer match based on the keywords in both type of answers.\n",
    "\n",
    "        If they match, return 1; otherwise, return 0.\n",
    "    '''\n",
    "\n",
    "    response = chat(\n",
    "        messages=[\n",
    "            {\n",
    "                'role': 'user',\n",
    "                'content': context,\n",
    "            }\n",
    "        ],\n",
    "        model='llama3.2:latest',\n",
    "        format=Verify.model_json_schema(),\n",
    "    )\n",
    "\n",
    "    result = Verify.model_validate_json(response.message.content)\n",
    "    verify.append(result.matching)\n",
    "    \n",
    "    df_results = pl.DataFrame({\n",
    "        'query': data['Question'][:i+1],\n",
    "        'ground_truth': data['Sample'][:i+1],\n",
    "        'predict_from_hybrid_search': data['AnswerbyHybribsearch'][:i+1],\n",
    "        'score_matching': verify\n",
    "    })\n",
    "\n",
    "    \n",
    "    df_results.write_csv(\"./hani_hybrid_verified.csv\")\n"
   ]
  },
  {
   "cell_type": "code",
   "execution_count": 46,
   "metadata": {},
   "outputs": [
    {
     "data": {
      "text/html": [
       "<div><style>\n",
       ".dataframe > thead > tr,\n",
       ".dataframe > tbody > tr {\n",
       "  text-align: right;\n",
       "  white-space: pre-wrap;\n",
       "}\n",
       "</style>\n",
       "<small>shape: (2, 2)</small><table border=\"1\" class=\"dataframe\"><thead><tr><th>score_matching</th><th>count</th></tr><tr><td>i64</td><td>u32</td></tr></thead><tbody><tr><td>1</td><td>457</td></tr><tr><td>0</td><td>1024</td></tr></tbody></table></div>"
      ],
      "text/plain": [
       "shape: (2, 2)\n",
       "┌────────────────┬───────┐\n",
       "│ score_matching ┆ count │\n",
       "│ ---            ┆ ---   │\n",
       "│ i64            ┆ u32   │\n",
       "╞════════════════╪═══════╡\n",
       "│ 1              ┆ 457   │\n",
       "│ 0              ┆ 1024  │\n",
       "└────────────────┴───────┘"
      ]
     },
     "execution_count": 46,
     "metadata": {},
     "output_type": "execute_result"
    }
   ],
   "source": [
    "df_results.filter(\n",
    "    pl.col('score_matching').is_in([0, 1])\n",
    ")['score_matching'].value_counts()"
   ]
  },
  {
   "cell_type": "code",
   "execution_count": 26,
   "metadata": {},
   "outputs": [],
   "source": [
    "import requests\n",
    "import json\n",
    "\n",
    "def extract_keyword_by_llama32(query:str):\n",
    "  \n",
    "  \n",
    "  url = 'http://localhost:11434/api/chat'\n",
    "\n",
    "  context = f'''\n",
    "  Extract the most relevant keywords from the following sentence: '{query}'. \n",
    "  Focus on important nouns, verbs, and adjectives that convey the core meaning. \n",
    "  Additionally, categorize the query into a relevant topic or section (e.g., Technology, Business, Health, Education, etc.).\n",
    "  For each extracted keyword, provide a list of synonyms that accurately reflect its meaning in the given context. \n",
    "  Ensure that the synonyms include common alternatives, domain-specific terms (if applicable), \n",
    "  and variations in different registers (formal, informal, technical, etc.).\n",
    "  '''\n",
    "\n",
    "  headers = {\n",
    "      \"Content-Type\": \"application/json\"\n",
    "  }\n",
    "\n",
    "  messages = [\n",
    "      {\"role\": \"system\", \"content\": \"You are an AI assistant trained to extract keywords and categorize queries.\"},\n",
    "      {\"role\": \"user\", \"content\": context}\n",
    "  ]\n",
    "\n",
    "  model='llama3.2:latest'\n",
    "\n",
    "  format={\n",
    "      \"type\": \"object\",\n",
    "      \"properties\": {\n",
    "        \"keywords\": {\n",
    "          \"type\": \"array\",\n",
    "          'items': {\n",
    "            'type': 'string'\n",
    "          }\n",
    "        }\n",
    "      },\n",
    "      \"required\": [\n",
    "        \"keywords\"\n",
    "      ]\n",
    "    }\n",
    "\n",
    "  data = {\n",
    "      \"model\": model,\n",
    "      \"messages\": messages,\n",
    "      \"format\": format,\n",
    "      \"stream\": False\n",
    "  }\n",
    "\n",
    "  response = requests.post(url, headers=headers, data=json.dumps(data))\n",
    "\n",
    "  if response.status_code == 200:\n",
    "      try:\n",
    "          print(response.json())\n",
    "      except json.JSONDecodeError:\n",
    "          print(\"Invalid JSON response:\", response.text)\n",
    "  else:\n",
    "      print(f\"Error: {response.status_code}, {response.text}\")\n",
    "      \n",
    "  keywords = json.loads(response.json()['message']['content'])['keywords']\n",
    "  \n",
    "  return keywords\n"
   ]
  },
  {
   "cell_type": "code",
   "execution_count": 27,
   "metadata": {},
   "outputs": [
    {
     "name": "stdout",
     "output_type": "stream",
     "text": [
      "{'model': 'llama3.2:latest', 'created_at': '2025-03-03T07:10:19.530484Z', 'message': {'role': 'assistant', 'content': '{ \"keywords\": [\"software engineer\", \"become\", \"How to\"] }'}, 'done_reason': 'stop', 'done': True, 'total_duration': 921803200, 'load_duration': 19863300, 'prompt_eval_count': 162, 'prompt_eval_duration': 43000000, 'eval_count': 18, 'eval_duration': 857000000}\n"
     ]
    }
   ],
   "source": [
    "t = extract_keyword_by_llama32(query = 'How to become a software engineer')"
   ]
  },
  {
   "cell_type": "code",
   "execution_count": 29,
   "metadata": {},
   "outputs": [
    {
     "data": {
      "text/plain": [
       "['software engineer', 'become', 'How to']"
      ]
     },
     "execution_count": 29,
     "metadata": {},
     "output_type": "execute_result"
    }
   ],
   "source": [
    "t"
   ]
  },
  {
   "cell_type": "code",
   "execution_count": null,
   "metadata": {},
   "outputs": [],
   "source": []
  }
 ],
 "metadata": {
  "kernelspec": {
   "display_name": "langchain",
   "language": "python",
   "name": "python3"
  },
  "language_info": {
   "codemirror_mode": {
    "name": "ipython",
    "version": 3
   },
   "file_extension": ".py",
   "mimetype": "text/x-python",
   "name": "python",
   "nbconvert_exporter": "python",
   "pygments_lexer": "ipython3",
   "version": "3.11.11"
  }
 },
 "nbformat": 4,
 "nbformat_minor": 2
}

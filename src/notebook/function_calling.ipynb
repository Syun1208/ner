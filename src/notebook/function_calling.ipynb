{
 "cells": [
  {
   "cell_type": "code",
   "execution_count": 3,
   "metadata": {},
   "outputs": [
    {
     "name": "stdout",
     "output_type": "stream",
     "text": [
      "Hey there! 👋 Thanks for reaching out. You’re looking to get a detailed Win/Loss report, right?\n",
      "\n",
      "To help you better, I need some more details like the date range and product you are interested in. Could you please provide those details? If you don't have specific dates or products in mind, let me know what timeframe and which product(s) you would like to see included.\n",
      "\n",
      "Thanks! 📊\n"
     ]
    }
   ],
   "source": [
    "print(\"Hey there! 👋 Thanks for reaching out. You’re looking to get a detailed Win/Loss report, right?\\n\\nTo help you better, I need some more details like the date range and product you are interested in. Could you please provide those details? If you don't have specific dates or products in mind, let me know what timeframe and which product(s) you would like to see included.\\n\\nThanks! 📊\")"
   ]
  },
  {
   "cell_type": "code",
   "execution_count": null,
   "metadata": {},
   "outputs": [],
   "source": []
  }
 ],
 "metadata": {
  "kernelspec": {
   "display_name": "langchain",
   "language": "python",
   "name": "python3"
  },
  "language_info": {
   "codemirror_mode": {
    "name": "ipython",
    "version": 3
   },
   "file_extension": ".py",
   "mimetype": "text/x-python",
   "name": "python",
   "nbconvert_exporter": "python",
   "pygments_lexer": "ipython3",
   "version": "3.11.11"
  }
 },
 "nbformat": 4,
 "nbformat_minor": 2
}

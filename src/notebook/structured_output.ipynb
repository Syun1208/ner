{
 "cells": [
  {
   "cell_type": "code",
   "execution_count": 1,
   "metadata": {},
   "outputs": [],
   "source": [
    "import pandas as pd\n",
    "\n",
    "PRODUCT = [\n",
    "    \"Sportsbook\", \"Number Game\", \"Virtual Sports\", \"Saba Casino\", \"RNG Keno\", \"AG Casino\",\n",
    "    \"Sportsbook 2\", \"RNG Slot\", \"Cricket\", \"Allbet\", \"Macau Games\", \"Cash Out\", \"Lottery\",\n",
    "    \"Voidbrige Jackpot\", \"Exchange\", \"PP\", \"Arcadia Gaming\", \"SG\", \"Saba Promotion\",\n",
    "    \"Virtual Games\", \"SA Gaming\", \"Table Game\", \"Live Casino\", \"SABA.games\", \"Togel 4D\",\n",
    "    \"RNG Games\", \"AE Sexy\", \"IBCBet Live Casino\", \"BBIN\", \"GPI\", \"WM\", \"ION\", \"RNG Casino\",\n",
    "    \"Saba Virtual Sports\", \"PG Soft\", \"Joker\", \"BG\", \"MaxGame\", \"Habanero\", \"CG\",\n",
    "    \"Sports Lottery\", \"PP Live Casino\", \"Vgaming\", \"AdvantPlay\", \"AdvantPlay Mini\", \n",
    "    \"Bitcoin\", \"FGG\", \"SEAL Entertainment\", \"MG-RNG\", \"Player Tips\", \"Jili\", \"YeeBet\", \n",
    "    \"UU SLOTS\", \"Live22\", \"WE Live Casino\", \"Saba Coins\", \"Yolo Play\", \"Nextspin\",\n",
    "    \"SABA xD\", \"FastSpin\", \"FA CHAI\", \"GPI Live Casino\", \"PLAYSTAR\", \"HOTDOG\", \"ON Casino\",\n",
    "    \"Smartsoft\", \"Playtech\", \"SABA Keno\", \"ASKMESLOT\", \"Funky Games\"\n",
    "]\n",
    "\n",
    "PRODUCT_DETAIL = [\n",
    "    \"SABA Basketball\", \"SABA Basketball PinGoal\", \"SABA E-Sports PinGoal\",\n",
    "    \"SABA Other Sports\", \"SABA Soccer\", \"SABA Soccer PinGoal\", \"SABA Tennis\",\n",
    "    \"Sportsbook\", \"Allbet Promotion\", \"PP Jackpot Contribution\", \"PP Jackpot Prize\",\n",
    "    \"SG Jackpot Contribution\", \"SG Jackpot Prize\", \"AE Sexy Lucky Draw\",\n",
    "    \"Vgaming Promotion Prize\", \"MG-RNG Promotion Prize\", \"Live22 Promotion Prize\",\n",
    "    \"FastSpin Promotion Prize\", \"FA CHAI Promotion Prize\", \"ASKMESLOT Promotion Prize\"\n",
    "]\n",
    "\n",
    "LEVEL = ['Super Agent', 'Master Agent', 'Agent', 'Direct Member']\n",
    "\n",
    "# customer = pd.read_csv(r'/home/hoangtv/Desktop/Long/llm-tuning/data/customer.csv')\n",
    "customer = pd.read_csv(r'D:\\\\Desktop\\\\AlphaReportChatbot\\\\data\\\\customer.csv')\n",
    "USER = customer.dropna()['username'].tolist()\n",
    "    "
   ]
  },
  {
   "cell_type": "code",
   "execution_count": 2,
   "metadata": {},
   "outputs": [],
   "source": [
    "def get_current_year() -> str:\n",
    "    \"\"\"\n",
    "    Get the current year in YYYY format.\n",
    "    \n",
    "    Returns:\n",
    "        str: Current year in YYYY format\n",
    "    \"\"\"\n",
    "    from datetime import datetime\n",
    "    return datetime.now().strftime(\"%Y\")\n",
    "\n",
    "\n",
    "\n",
    "def get_current_datetime() -> str:\n",
    "    \"\"\"\n",
    "    Get the current datetime in YYYY-MM-DD format.\n",
    "    \n",
    "    Returns:\n",
    "        str: Current date in YYYY-MM-DD format\n",
    "    \"\"\"\n",
    "    from datetime import datetime\n",
    "    return datetime.now().strftime(\"%Y-%m-%d\")\n",
    "\n",
    "\n",
    "\n",
    "def get_current_month() -> str:\n",
    "    \"\"\"\n",
    "    Get the current month in MM format.\n",
    "    \n",
    "    Returns:\n",
    "        str: Current month in MM format\n",
    "    \"\"\"\n",
    "    from datetime import datetime\n",
    "    return datetime.now().strftime(\"%m\")"
   ]
  },
  {
   "cell_type": "code",
   "execution_count": 11,
   "metadata": {},
   "outputs": [],
   "source": [
    "import requests\n",
    "import json\n",
    "\n",
    "current_date = get_current_datetime()\n",
    "current_year = get_current_year()\n",
    "current_month = get_current_month()\n",
    "\n",
    "def extract_entity_by_ollama(\n",
    "  query: str,\n",
    "  url = 'https://saillm.oneops.net/api/chat', \n",
    "  model='qwen2.5:14b'\n",
    "):\n",
    "  \n",
    "  system_prompt = \"You are an AI assistant majoring for Named Entity Recognition trained to extract entity and categorize queries for Winlost Report Detail\"\n",
    "  \n",
    "  user_prompt = f\"\"\"\n",
    "        Current date: {current_date}\n",
    "        Current year: {current_year}\n",
    "        Current month: {current_month}\n",
    "\n",
    "        Extract the most relevant keywords from the following sentence: '{query}'. \n",
    "        Focus on important nouns that convey the core meaning. \n",
    "        Detect any words related to dates such as tomorrow, today, last week, next year, so on, following the example below.\n",
    "        Help me convert the date range to the format of YYYY-MM-DD to YYYY-MM-DD.\n",
    "        For date range, please help me convert it to from_date and to_date in DD/MM/YYYY format following these rules:\n",
    "\n",
    "        1. If a single date is mentioned (e.g. \"day 10\"):\n",
    "           - Use current month and year {current_year} and {current_month}\n",
    "           - Set both from_date and to_date to that date\n",
    "           Example: \"day 10\" in March 2025 -> from_date: 10/03/2025, to_date: 10/03/2025\n",
    "\n",
    "        2. If a date range is specified (e.g. \"01/02/2024 to 15/02/2024\"):\n",
    "           - Keep the dates as specified in DD/MM/YYYY format\n",
    "           Example: \"01/02/2024 to 15/02/2024\" -> from_date: 01/02/2024, to_date: 15/02/2024\n",
    "\n",
    "        3. If relative dates are mentioned:\n",
    "           - \"today\" -> Use {current_date} for both\n",
    "           - \"yesterday\" -> Use yesterday's date for both from current date {current_date}\n",
    "           - \"last week\" -> from_date is 7 days ago, to_date is today from current date {current_date}\n",
    "           - \"last month\" -> from_date is 1st of previous month, to_date is last day of previous month from current date {current_date}\n",
    "           - \"last year\" -> from_date is Jan 1st of previous year, to_date is Dec 31st of previous year from current date {current_date}\n",
    "           - \"this week\" -> from_date is Monday of current week, to_date is today from current date {current_date}\n",
    "           - \"this month\" -> from_date is 1st of current month, to_date is today from current date {current_date}\n",
    "           - \"this year\" -> from_date is Jan 1st of current year, to_date is today from current date {current_date}\n",
    "           \n",
    "        4. If a month range is specified (e.g. \"1/1 to 31/1\"):\n",
    "           - Use current year {current_year}\n",
    "           - Set from_date to first day of specified month \n",
    "           - Set to_date to last day of specified month\n",
    "           Example: \"1/1 to 31/1\" in 2025 -> from_date: 01/01/2025, to_date: 31/01/2025\n",
    "           \n",
    "        5. If no date is specified:\n",
    "           - Set date_range as \"N/A\"\n",
    "           - Set both from_date and to_date as \"N/A\"\n",
    "           \n",
    "        If no relevant keywords are detected, return 'All' (except for dates, you must fill 'N/A').\n",
    "        If the date range is not specified, please return 'N/A' for date_range.\n",
    "        If the product is not specified, please return 'All' for product.\n",
    "        If the product detail is not specified, please return 'All' for product_detail.\n",
    "        If the level is not specified, please return 'All' for level.\n",
    "        If the user is not specified, please return 'N/A' for user.\n",
    "        \n",
    "        Here is the list of product and product detail you should detect:\n",
    "        ### PRODUCT = {PRODUCT}\n",
    "        ### PRODUCT_DETAIL = {PRODUCT_DETAIL}\n",
    "        ### LEVEL = {LEVEL}\n",
    "        \n",
    "        Occasionaly, \"user\" keyword may appear some words such as \"master*\", \"super*\", \"admin*\", \"user*\", \"agent*\" where * is any characters.\n",
    "        \n",
    "        Example 1:\n",
    "        ## User: Get me a Turnover Detail Report on day 10\n",
    "        ## Output:\n",
    "        {{\n",
    "            \"date_range\": \"day 10\",\n",
    "            \"from_date\": \"10/03/2025\",\n",
    "            \"to_date\": \"10/03/2025\",\n",
    "            \"product\": \"All\",\n",
    "            \"product_detail\": \"All\",\n",
    "            \"level\": \"All\",\n",
    "            \"user\": \"N/A\"\n",
    "        }}\n",
    "        \n",
    "        Example 2:\n",
    "        ## User: Get me a Net Turnover Report for Direct Member who played Product Detail Sportsbook in Sportsbook Product from 01/02/2024 to 15/02/2024\n",
    "        ## Output:\n",
    "        {{\n",
    "            \"date_range\": \"01/02/2024 to 15/02/2024\",\n",
    "            \"from_date\": \"01/02/2024\",\n",
    "            \"to_date\": \"15/02/2024\",\n",
    "            \"product\": \"Sportsbook\",\n",
    "            \"product_detail\": \"Sportsbook\",\n",
    "            \"level\": \"Direct Member\",\n",
    "            \"user\": \"N/A\"\n",
    "        }}\n",
    "        \n",
    "        Example 3:\n",
    "        ## User: Get me a Gross Commission Detail Report for Super Agent who played Product Detail SABA Basketball in SABA Basketball Product from 01/02/2024 to 15/02/2024\n",
    "        ## Output:\n",
    "        {{\n",
    "            \"date_range\": \"01/02/2024 to 15/02/2024\",\n",
    "            \"from_date\": \"01/02/2024\",\n",
    "            \"to_date\": \"15/02/2024\",\n",
    "            \"product\": \"SABA Basketball\",\n",
    "            \"product_detail\": \"SABA Basketball\",\n",
    "            \"level\": \"Super Agent\",\n",
    "            \"user\": \"N/A\"\n",
    "        }}\n",
    "        \n",
    "        Example 4:\n",
    "        ## User: Bet Count Detail Report for Product Sportsbook\n",
    "        ## Output:\n",
    "        {{\n",
    "            \"date_range\": \"N/A\",\n",
    "            \"from_date\": \"N/A\",\n",
    "            \"to_date\": \"N/A\",\n",
    "            \"product\": \"Sportsbook\",\n",
    "            \"product_detail\": \"All\",\n",
    "            \"level\": \"All\",\n",
    "            \"user\": \"N/A\"\n",
    "        }}\n",
    "        \"\"\"\n",
    "\n",
    "\n",
    "  headers = {\n",
    "      \"Content-Type\": \"application/json\"\n",
    "  }\n",
    "\n",
    "  messages = [\n",
    "      {\"role\": \"system\", \"content\": system_prompt},\n",
    "      {\"role\": \"user\", \"content\": user_prompt}\n",
    "  ]\n",
    "\n",
    "\n",
    "  format={\n",
    "      \"type\": \"object\",\n",
    "      \"properties\": {\n",
    "          \"date_range\": {\"type\": \"string\"},\n",
    "          \"from_date\": {\"type\": \"string\"},\n",
    "          \"to_date\": {\"type\": \"string\"},\n",
    "          \"product\": {\"type\": \"string\"},\n",
    "          \"product_detail\": {\"type\": \"string\"},\n",
    "          \"level\": {\"type\": \"string\"},\n",
    "          \"user\": {\"type\": \"string\"}\n",
    "      },\n",
    "      \"required\": [\"function_called\", \"task\", \"date_range\", \"from_date\", \"to_date\", \"product\", \"product_detail\", \"level\", \"user\"]\n",
    "  }\n",
    "\n",
    "  data = {\n",
    "      \"model\": model,\n",
    "      \"messages\": messages,\n",
    "      \"format\": format,\n",
    "      \"stream\": False\n",
    "  }\n",
    "\n",
    "  response = requests.post(url, headers=headers, data=json.dumps(data))\n",
    "\n",
    "  # if not response.status_code == 200:\n",
    "  #     print(\"Invalid JSON response:\", response.text)\n",
    "  # else:\n",
    "  #     print(f\"Error: {response.status_code}, {response.text}\")\n",
    "      \n",
    "  entities = json.loads(response.json()['message']['content'])\n",
    "  \n",
    "  return entities\n"
   ]
  },
  {
   "cell_type": "code",
   "execution_count": 12,
   "metadata": {},
   "outputs": [],
   "source": [
    "from spacy import displacy\n",
    "import time\n",
    "from typing import List\n",
    "\n",
    "def convert_to_spacy_format(entities_dict, query):\n",
    "    spacy_entities = []\n",
    "    for label, text in entities_dict.items():\n",
    "        if text != \"All\" and text != \"N/A\":\n",
    "            start = query.find(text)\n",
    "            if start != -1:\n",
    "                end = start + len(text)\n",
    "                spacy_entities.append({\n",
    "                    \"start\": start,\n",
    "                    \"end\": end,\n",
    "                    \"text\": text,\n",
    "                    \"label\": label,\n",
    "                    \"score\": 0.99  # Placeholder score, adjust as needed\n",
    "                })\n",
    "    return spacy_entities\n",
    "\n",
    "def test(\n",
    "    queries: List[str]\n",
    ") -> None:\n",
    "    for query in queries:\n",
    "        \n",
    "        start = time.time()\n",
    "        entities = extract_entity_by_ollama(\n",
    "            query=query,\n",
    "            url = 'https://ollama.selab.edu.vn/api/chat',\n",
    "            model='qwen2.5:14b'\n",
    "        )\n",
    "        print(entities)\n",
    "        entities = convert_to_spacy_format(entities, query)\n",
    "        dic_ents = {\n",
    "            \"text\": query,\n",
    "            \"ents\": entities,\n",
    "            \"title\": None\n",
    "        }\n",
    "        \n",
    "        print(f\"🫂 QUERY: {query}\")\n",
    "        print(f\"😍 ENTITIES: \")\n",
    "        displacy.render(dic_ents, manual=True, style='ent')\n",
    "        print(f\"TIME INFERENCE: {time.time() - start}\")\n",
    "        print(\"🤖==========================================================================================🤖\")\n",
    "        print(\"\\n\")\n",
    "    "
   ]
  },
  {
   "cell_type": "code",
   "execution_count": 13,
   "metadata": {},
   "outputs": [
    {
     "name": "stdout",
     "output_type": "stream",
     "text": [
      "{'date_range': 'yesterday', 'from_date': '02/04/2025', 'to_date': '02/04/2025', 'product': 'All', 'product_detail': 'All', 'level': 'All', 'user': 'N/A'}\n",
      "🫂 QUERY: Get me a Win Loss Detail Report yesterday\n",
      "😍 ENTITIES: \n"
     ]
    },
    {
     "data": {
      "text/html": [
       "<span class=\"tex2jax_ignore\"><div class=\"entities\" style=\"line-height: 2.5; direction: ltr\">Get me a Win Loss Detail Report \n",
       "<mark class=\"entity\" style=\"background: #ddd; padding: 0.45em 0.6em; margin: 0 0.25em; line-height: 1; border-radius: 0.35em;\">\n",
       "    yesterday\n",
       "    <span style=\"font-size: 0.8em; font-weight: bold; line-height: 1; border-radius: 0.35em; vertical-align: middle; margin-left: 0.5rem\">date_range</span>\n",
       "</mark>\n",
       "</div></span>"
      ],
      "text/plain": [
       "<IPython.core.display.HTML object>"
      ]
     },
     "metadata": {},
     "output_type": "display_data"
    },
    {
     "name": "stdout",
     "output_type": "stream",
     "text": [
      "TIME INFERENCE: 5.138331413269043\n",
      "🤖==========================================================================================🤖\n",
      "\n",
      "\n",
      "{'date_range': 'day 10', 'from_date': '10/04/2025', 'to_date': '10/04/2025', 'product': 'All', 'product_detail': 'All', 'level': 'All', 'user': 'N/A'}\n",
      "🫂 QUERY: Get me a Turnover Detail Report on day 10\n",
      "😍 ENTITIES: \n"
     ]
    },
    {
     "data": {
      "text/html": [
       "<span class=\"tex2jax_ignore\"><div class=\"entities\" style=\"line-height: 2.5; direction: ltr\">Get me a Turnover Detail Report on \n",
       "<mark class=\"entity\" style=\"background: #ddd; padding: 0.45em 0.6em; margin: 0 0.25em; line-height: 1; border-radius: 0.35em;\">\n",
       "    day 10\n",
       "    <span style=\"font-size: 0.8em; font-weight: bold; line-height: 1; border-radius: 0.35em; vertical-align: middle; margin-left: 0.5rem\">date_range</span>\n",
       "</mark>\n",
       "</div></span>"
      ],
      "text/plain": [
       "<IPython.core.display.HTML object>"
      ]
     },
     "metadata": {},
     "output_type": "display_data"
    },
    {
     "name": "stdout",
     "output_type": "stream",
     "text": [
      "TIME INFERENCE: 5.034808874130249\n",
      "🤖==========================================================================================🤖\n",
      "\n",
      "\n",
      "{'date_range': '1/1 to 31/1', 'from_date': '01/01/2025', 'to_date': '31/01/2025', 'product': 'All', 'product_detail': 'All', 'level': 'All', 'user': 'N/A'}\n",
      "🫂 QUERY: Net Turnover Detail Report from 1/1 to 31/1\n",
      "😍 ENTITIES: \n"
     ]
    },
    {
     "data": {
      "text/html": [
       "<span class=\"tex2jax_ignore\"><div class=\"entities\" style=\"line-height: 2.5; direction: ltr\">Net Turnover Detail Report from \n",
       "<mark class=\"entity\" style=\"background: #ddd; padding: 0.45em 0.6em; margin: 0 0.25em; line-height: 1; border-radius: 0.35em;\">\n",
       "    1/1 to 31/1\n",
       "    <span style=\"font-size: 0.8em; font-weight: bold; line-height: 1; border-radius: 0.35em; vertical-align: middle; margin-left: 0.5rem\">date_range</span>\n",
       "</mark>\n",
       "</div></span>"
      ],
      "text/plain": [
       "<IPython.core.display.HTML object>"
      ]
     },
     "metadata": {},
     "output_type": "display_data"
    },
    {
     "name": "stdout",
     "output_type": "stream",
     "text": [
      "TIME INFERENCE: 5.2050886154174805\n",
      "🤖==========================================================================================🤖\n",
      "\n",
      "\n",
      "{'date_range': '01/02/2024 to 15/02/2024', 'from_date': '01/02/2024', 'to_date': '15/02/2024', 'product': 'Sportsbook', 'product_detail': 'Sportsbook', 'level': 'Direct Member', 'user': 'N/A'}\n",
      "🫂 QUERY: Get me a Win Loss Detail Report for Direct Member who played Product Detail Sportsbook in Sportsbook Product from 01/02/2024 to 15/02/2024\n",
      "😍 ENTITIES: \n"
     ]
    },
    {
     "data": {
      "text/html": [
       "<span class=\"tex2jax_ignore\"><div class=\"entities\" style=\"line-height: 2.5; direction: ltr\">Get me a Win Loss Detail Report for \n",
       "<mark class=\"entity\" style=\"background: #ddd; padding: 0.45em 0.6em; margin: 0 0.25em; line-height: 1; border-radius: 0.35em;\">\n",
       "    Direct Member\n",
       "    <span style=\"font-size: 0.8em; font-weight: bold; line-height: 1; border-radius: 0.35em; vertical-align: middle; margin-left: 0.5rem\">level</span>\n",
       "</mark>\n",
       " who played Product Detail \n",
       "<mark class=\"entity\" style=\"background: #bfeeb7; padding: 0.45em 0.6em; margin: 0 0.25em; line-height: 1; border-radius: 0.35em;\">\n",
       "    Sportsbook\n",
       "    <span style=\"font-size: 0.8em; font-weight: bold; line-height: 1; border-radius: 0.35em; vertical-align: middle; margin-left: 0.5rem\">product</span>\n",
       "</mark>\n",
       "\n",
       "<mark class=\"entity\" style=\"background: #ddd; padding: 0.45em 0.6em; margin: 0 0.25em; line-height: 1; border-radius: 0.35em;\">\n",
       "    Sportsbook\n",
       "    <span style=\"font-size: 0.8em; font-weight: bold; line-height: 1; border-radius: 0.35em; vertical-align: middle; margin-left: 0.5rem\">product_detail</span>\n",
       "</mark>\n",
       " in Sportsbook Product from \n",
       "<mark class=\"entity\" style=\"background: #ddd; padding: 0.45em 0.6em; margin: 0 0.25em; line-height: 1; border-radius: 0.35em;\">\n",
       "    01/02/2024\n",
       "    <span style=\"font-size: 0.8em; font-weight: bold; line-height: 1; border-radius: 0.35em; vertical-align: middle; margin-left: 0.5rem\">from_date</span>\n",
       "</mark>\n",
       "\n",
       "<mark class=\"entity\" style=\"background: #ddd; padding: 0.45em 0.6em; margin: 0 0.25em; line-height: 1; border-radius: 0.35em;\">\n",
       "    01/02/2024 to 15/02/2024\n",
       "    <span style=\"font-size: 0.8em; font-weight: bold; line-height: 1; border-radius: 0.35em; vertical-align: middle; margin-left: 0.5rem\">date_range</span>\n",
       "</mark>\n",
       "\n",
       "<mark class=\"entity\" style=\"background: #ddd; padding: 0.45em 0.6em; margin: 0 0.25em; line-height: 1; border-radius: 0.35em;\">\n",
       "    15/02/2024\n",
       "    <span style=\"font-size: 0.8em; font-weight: bold; line-height: 1; border-radius: 0.35em; vertical-align: middle; margin-left: 0.5rem\">to_date</span>\n",
       "</mark>\n",
       "</div></span>"
      ],
      "text/plain": [
       "<IPython.core.display.HTML object>"
      ]
     },
     "metadata": {},
     "output_type": "display_data"
    },
    {
     "name": "stdout",
     "output_type": "stream",
     "text": [
      "TIME INFERENCE: 5.862730979919434\n",
      "🤖==========================================================================================🤖\n",
      "\n",
      "\n",
      "{'date_range': 'last week', 'from_date': '27/03/2025', 'to_date': '02/04/2025', 'product': 'All', 'product_detail': 'All', 'level': 'All', 'user': 'N/A'}\n",
      "🫂 QUERY: Give me my Win Loss Detail report  last week\n",
      "😍 ENTITIES: \n"
     ]
    },
    {
     "data": {
      "text/html": [
       "<span class=\"tex2jax_ignore\"><div class=\"entities\" style=\"line-height: 2.5; direction: ltr\">Give me my Win Loss Detail report  \n",
       "<mark class=\"entity\" style=\"background: #ddd; padding: 0.45em 0.6em; margin: 0 0.25em; line-height: 1; border-radius: 0.35em;\">\n",
       "    last week\n",
       "    <span style=\"font-size: 0.8em; font-weight: bold; line-height: 1; border-radius: 0.35em; vertical-align: middle; margin-left: 0.5rem\">date_range</span>\n",
       "</mark>\n",
       "</div></span>"
      ],
      "text/plain": [
       "<IPython.core.display.HTML object>"
      ]
     },
     "metadata": {},
     "output_type": "display_data"
    },
    {
     "name": "stdout",
     "output_type": "stream",
     "text": [
      "TIME INFERENCE: 5.221999406814575\n",
      "🤖==========================================================================================🤖\n",
      "\n",
      "\n",
      "{'date_range': 'last week', 'from_date': '27/03/2025', 'to_date': '02/04/2025', 'product': 'Sportsbook', 'product_detail': 'All', 'level': 'All', 'user': 'N/A'}\n",
      "🫂 QUERY: Give me a Win Loss Detail report for Sportsbook from last week.\n",
      "😍 ENTITIES: \n"
     ]
    },
    {
     "data": {
      "text/html": [
       "<span class=\"tex2jax_ignore\"><div class=\"entities\" style=\"line-height: 2.5; direction: ltr\">Give me a Win Loss Detail report for \n",
       "<mark class=\"entity\" style=\"background: #bfeeb7; padding: 0.45em 0.6em; margin: 0 0.25em; line-height: 1; border-radius: 0.35em;\">\n",
       "    Sportsbook\n",
       "    <span style=\"font-size: 0.8em; font-weight: bold; line-height: 1; border-radius: 0.35em; vertical-align: middle; margin-left: 0.5rem\">product</span>\n",
       "</mark>\n",
       " from \n",
       "<mark class=\"entity\" style=\"background: #ddd; padding: 0.45em 0.6em; margin: 0 0.25em; line-height: 1; border-radius: 0.35em;\">\n",
       "    last week\n",
       "    <span style=\"font-size: 0.8em; font-weight: bold; line-height: 1; border-radius: 0.35em; vertical-align: middle; margin-left: 0.5rem\">date_range</span>\n",
       "</mark>\n",
       ".</div></span>"
      ],
      "text/plain": [
       "<IPython.core.display.HTML object>"
      ]
     },
     "metadata": {},
     "output_type": "display_data"
    },
    {
     "name": "stdout",
     "output_type": "stream",
     "text": [
      "TIME INFERENCE: 5.010495185852051\n",
      "🤖==========================================================================================🤖\n",
      "\n",
      "\n",
      "{'date_range': 'last week', 'from_date': '27/03/2025', 'to_date': '02/04/2025', 'product': 'All', 'product_detail': 'All', 'level': 'All', 'user': 'N/A'}\n",
      "🫂 QUERY: Give me my Win Loss Detail report  last week\n",
      "😍 ENTITIES: \n"
     ]
    },
    {
     "data": {
      "text/html": [
       "<span class=\"tex2jax_ignore\"><div class=\"entities\" style=\"line-height: 2.5; direction: ltr\">Give me my Win Loss Detail report  \n",
       "<mark class=\"entity\" style=\"background: #ddd; padding: 0.45em 0.6em; margin: 0 0.25em; line-height: 1; border-radius: 0.35em;\">\n",
       "    last week\n",
       "    <span style=\"font-size: 0.8em; font-weight: bold; line-height: 1; border-radius: 0.35em; vertical-align: middle; margin-left: 0.5rem\">date_range</span>\n",
       "</mark>\n",
       "</div></span>"
      ],
      "text/plain": [
       "<IPython.core.display.HTML object>"
      ]
     },
     "metadata": {},
     "output_type": "display_data"
    },
    {
     "name": "stdout",
     "output_type": "stream",
     "text": [
      "TIME INFERENCE: 4.963122129440308\n",
      "🤖==========================================================================================🤖\n",
      "\n",
      "\n",
      "{'date_range': 'N/A', 'from_date': 'N/A', 'to_date': 'N/A', 'product': 'All', 'product_detail': 'All', 'level': 'Master Agent', 'user': 'master1'}\n",
      "🫂 QUERY: Get me a Company Report of master1\n",
      "😍 ENTITIES: \n"
     ]
    },
    {
     "data": {
      "text/html": [
       "<span class=\"tex2jax_ignore\"><div class=\"entities\" style=\"line-height: 2.5; direction: ltr\">Get me a Company Report of \n",
       "<mark class=\"entity\" style=\"background: #ddd; padding: 0.45em 0.6em; margin: 0 0.25em; line-height: 1; border-radius: 0.35em;\">\n",
       "    master1\n",
       "    <span style=\"font-size: 0.8em; font-weight: bold; line-height: 1; border-radius: 0.35em; vertical-align: middle; margin-left: 0.5rem\">user</span>\n",
       "</mark>\n",
       "</div></span>"
      ],
      "text/plain": [
       "<IPython.core.display.HTML object>"
      ]
     },
     "metadata": {},
     "output_type": "display_data"
    },
    {
     "name": "stdout",
     "output_type": "stream",
     "text": [
      "TIME INFERENCE: 4.364670515060425\n",
      "🤖==========================================================================================🤖\n",
      "\n",
      "\n",
      "{'date_range': 'N/A', 'from_date': 'N/A', 'to_date': 'N/A', 'product': 'Sportsbook', 'product_detail': 'All', 'level': 'All', 'user': 'N/A'}\n",
      "🫂 QUERY: Win/Loss details for Product Sportsbook\n",
      "😍 ENTITIES: \n"
     ]
    },
    {
     "data": {
      "text/html": [
       "<span class=\"tex2jax_ignore\"><div class=\"entities\" style=\"line-height: 2.5; direction: ltr\">Win/Loss details for Product \n",
       "<mark class=\"entity\" style=\"background: #bfeeb7; padding: 0.45em 0.6em; margin: 0 0.25em; line-height: 1; border-radius: 0.35em;\">\n",
       "    Sportsbook\n",
       "    <span style=\"font-size: 0.8em; font-weight: bold; line-height: 1; border-radius: 0.35em; vertical-align: middle; margin-left: 0.5rem\">product</span>\n",
       "</mark>\n",
       "</div></span>"
      ],
      "text/plain": [
       "<IPython.core.display.HTML object>"
      ]
     },
     "metadata": {},
     "output_type": "display_data"
    },
    {
     "name": "stdout",
     "output_type": "stream",
     "text": [
      "TIME INFERENCE: 4.546018362045288\n",
      "🤖==========================================================================================🤖\n",
      "\n",
      "\n",
      "{'date_range': 'day 10', 'from_date': '10/04/2025', 'to_date': '10/04/2025', 'product': 'All', 'product_detail': 'All', 'level': 'All', 'user': 'N/A'}\n",
      "🫂 QUERY: Get me a Win Loss on day 10\n",
      "😍 ENTITIES: \n"
     ]
    },
    {
     "data": {
      "text/html": [
       "<span class=\"tex2jax_ignore\"><div class=\"entities\" style=\"line-height: 2.5; direction: ltr\">Get me a Win Loss on \n",
       "<mark class=\"entity\" style=\"background: #ddd; padding: 0.45em 0.6em; margin: 0 0.25em; line-height: 1; border-radius: 0.35em;\">\n",
       "    day 10\n",
       "    <span style=\"font-size: 0.8em; font-weight: bold; line-height: 1; border-radius: 0.35em; vertical-align: middle; margin-left: 0.5rem\">date_range</span>\n",
       "</mark>\n",
       "</div></span>"
      ],
      "text/plain": [
       "<IPython.core.display.HTML object>"
      ]
     },
     "metadata": {},
     "output_type": "display_data"
    },
    {
     "name": "stdout",
     "output_type": "stream",
     "text": [
      "TIME INFERENCE: 5.07573127746582\n",
      "🤖==========================================================================================🤖\n",
      "\n",
      "\n",
      "{'date_range': 'this week', 'from_date': '31/03/2025', 'to_date': '03/04/2025', 'product': 'Sportsbook', 'product_detail': 'All', 'level': 'All', 'user': 'N/A'}\n",
      "🫂 QUERY: I want Win Loss report of Sportsbook this week\n",
      "😍 ENTITIES: \n"
     ]
    },
    {
     "data": {
      "text/html": [
       "<span class=\"tex2jax_ignore\"><div class=\"entities\" style=\"line-height: 2.5; direction: ltr\">I want Win Loss report of \n",
       "<mark class=\"entity\" style=\"background: #bfeeb7; padding: 0.45em 0.6em; margin: 0 0.25em; line-height: 1; border-radius: 0.35em;\">\n",
       "    Sportsbook\n",
       "    <span style=\"font-size: 0.8em; font-weight: bold; line-height: 1; border-radius: 0.35em; vertical-align: middle; margin-left: 0.5rem\">product</span>\n",
       "</mark>\n",
       " \n",
       "<mark class=\"entity\" style=\"background: #ddd; padding: 0.45em 0.6em; margin: 0 0.25em; line-height: 1; border-radius: 0.35em;\">\n",
       "    this week\n",
       "    <span style=\"font-size: 0.8em; font-weight: bold; line-height: 1; border-radius: 0.35em; vertical-align: middle; margin-left: 0.5rem\">date_range</span>\n",
       "</mark>\n",
       "</div></span>"
      ],
      "text/plain": [
       "<IPython.core.display.HTML object>"
      ]
     },
     "metadata": {},
     "output_type": "display_data"
    },
    {
     "name": "stdout",
     "output_type": "stream",
     "text": [
      "TIME INFERENCE: 5.028416633605957\n",
      "🤖==========================================================================================🤖\n",
      "\n",
      "\n",
      "{'date_range': 'last week', 'from_date': '27/03/2025', 'to_date': '02/04/2025', 'product': 'abc1', 'product_detail': 'All', 'level': 'All', 'user': 'N/A'}\n",
      "🫂 QUERY: I want performance of abc1 last week\n",
      "😍 ENTITIES: \n"
     ]
    },
    {
     "data": {
      "text/html": [
       "<span class=\"tex2jax_ignore\"><div class=\"entities\" style=\"line-height: 2.5; direction: ltr\">I want performance of \n",
       "<mark class=\"entity\" style=\"background: #bfeeb7; padding: 0.45em 0.6em; margin: 0 0.25em; line-height: 1; border-radius: 0.35em;\">\n",
       "    abc1\n",
       "    <span style=\"font-size: 0.8em; font-weight: bold; line-height: 1; border-radius: 0.35em; vertical-align: middle; margin-left: 0.5rem\">product</span>\n",
       "</mark>\n",
       " \n",
       "<mark class=\"entity\" style=\"background: #ddd; padding: 0.45em 0.6em; margin: 0 0.25em; line-height: 1; border-radius: 0.35em;\">\n",
       "    last week\n",
       "    <span style=\"font-size: 0.8em; font-weight: bold; line-height: 1; border-radius: 0.35em; vertical-align: middle; margin-left: 0.5rem\">date_range</span>\n",
       "</mark>\n",
       "</div></span>"
      ],
      "text/plain": [
       "<IPython.core.display.HTML object>"
      ]
     },
     "metadata": {},
     "output_type": "display_data"
    },
    {
     "name": "stdout",
     "output_type": "stream",
     "text": [
      "TIME INFERENCE: 4.9524617195129395\n",
      "🤖==========================================================================================🤖\n",
      "\n",
      "\n",
      "{'date_range': 'yesterday', 'from_date': '02/04/2025', 'to_date': '02/04/2025', 'product': 'Live Casino', 'product_detail': 'All', 'level': 'Master', 'user': 'master1'}\n",
      "🫂 QUERY: Live Casino Win Loss report of Master master1 yesterday\n",
      "😍 ENTITIES: \n"
     ]
    },
    {
     "data": {
      "text/html": [
       "<span class=\"tex2jax_ignore\"><div class=\"entities\" style=\"line-height: 2.5; direction: ltr\">\n",
       "<mark class=\"entity\" style=\"background: #bfeeb7; padding: 0.45em 0.6em; margin: 0 0.25em; line-height: 1; border-radius: 0.35em;\">\n",
       "    Live Casino\n",
       "    <span style=\"font-size: 0.8em; font-weight: bold; line-height: 1; border-radius: 0.35em; vertical-align: middle; margin-left: 0.5rem\">product</span>\n",
       "</mark>\n",
       " Win Loss report of \n",
       "<mark class=\"entity\" style=\"background: #ddd; padding: 0.45em 0.6em; margin: 0 0.25em; line-height: 1; border-radius: 0.35em;\">\n",
       "    Master\n",
       "    <span style=\"font-size: 0.8em; font-weight: bold; line-height: 1; border-radius: 0.35em; vertical-align: middle; margin-left: 0.5rem\">level</span>\n",
       "</mark>\n",
       " \n",
       "<mark class=\"entity\" style=\"background: #ddd; padding: 0.45em 0.6em; margin: 0 0.25em; line-height: 1; border-radius: 0.35em;\">\n",
       "    master1\n",
       "    <span style=\"font-size: 0.8em; font-weight: bold; line-height: 1; border-radius: 0.35em; vertical-align: middle; margin-left: 0.5rem\">user</span>\n",
       "</mark>\n",
       " \n",
       "<mark class=\"entity\" style=\"background: #ddd; padding: 0.45em 0.6em; margin: 0 0.25em; line-height: 1; border-radius: 0.35em;\">\n",
       "    yesterday\n",
       "    <span style=\"font-size: 0.8em; font-weight: bold; line-height: 1; border-radius: 0.35em; vertical-align: middle; margin-left: 0.5rem\">date_range</span>\n",
       "</mark>\n",
       "</div></span>"
      ],
      "text/plain": [
       "<IPython.core.display.HTML object>"
      ]
     },
     "metadata": {},
     "output_type": "display_data"
    },
    {
     "name": "stdout",
     "output_type": "stream",
     "text": [
      "TIME INFERENCE: 4.999456167221069\n",
      "🤖==========================================================================================🤖\n",
      "\n",
      "\n",
      "{'date_range': 'last week', 'from_date': '27/03/2025', 'to_date': '02/04/2025', 'product': 'All', 'product_detail': 'All', 'level': 'Agent', 'user': 'agent01'}\n",
      "🫂 QUERY: I need Win Loss report of Agent agent01 last week\n",
      "😍 ENTITIES: \n"
     ]
    },
    {
     "data": {
      "text/html": [
       "<span class=\"tex2jax_ignore\"><div class=\"entities\" style=\"line-height: 2.5; direction: ltr\">I need Win Loss report of \n",
       "<mark class=\"entity\" style=\"background: #ddd; padding: 0.45em 0.6em; margin: 0 0.25em; line-height: 1; border-radius: 0.35em;\">\n",
       "    Agent\n",
       "    <span style=\"font-size: 0.8em; font-weight: bold; line-height: 1; border-radius: 0.35em; vertical-align: middle; margin-left: 0.5rem\">level</span>\n",
       "</mark>\n",
       " \n",
       "<mark class=\"entity\" style=\"background: #ddd; padding: 0.45em 0.6em; margin: 0 0.25em; line-height: 1; border-radius: 0.35em;\">\n",
       "    agent01\n",
       "    <span style=\"font-size: 0.8em; font-weight: bold; line-height: 1; border-radius: 0.35em; vertical-align: middle; margin-left: 0.5rem\">user</span>\n",
       "</mark>\n",
       " \n",
       "<mark class=\"entity\" style=\"background: #ddd; padding: 0.45em 0.6em; margin: 0 0.25em; line-height: 1; border-radius: 0.35em;\">\n",
       "    last week\n",
       "    <span style=\"font-size: 0.8em; font-weight: bold; line-height: 1; border-radius: 0.35em; vertical-align: middle; margin-left: 0.5rem\">date_range</span>\n",
       "</mark>\n",
       "</div></span>"
      ],
      "text/plain": [
       "<IPython.core.display.HTML object>"
      ]
     },
     "metadata": {},
     "output_type": "display_data"
    },
    {
     "name": "stdout",
     "output_type": "stream",
     "text": [
      "TIME INFERENCE: 5.030414342880249\n",
      "🤖==========================================================================================🤖\n",
      "\n",
      "\n",
      "{'date_range': 'today', 'from_date': '03/04/2025', 'to_date': '03/04/2025', 'product': 'All', 'product_detail': 'All', 'level': 'All', 'user': 'N/A'}\n",
      "🫂 QUERY: Show me today's summary\n",
      "😍 ENTITIES: \n"
     ]
    },
    {
     "data": {
      "text/html": [
       "<span class=\"tex2jax_ignore\"><div class=\"entities\" style=\"line-height: 2.5; direction: ltr\">Show me \n",
       "<mark class=\"entity\" style=\"background: #ddd; padding: 0.45em 0.6em; margin: 0 0.25em; line-height: 1; border-radius: 0.35em;\">\n",
       "    today\n",
       "    <span style=\"font-size: 0.8em; font-weight: bold; line-height: 1; border-radius: 0.35em; vertical-align: middle; margin-left: 0.5rem\">date_range</span>\n",
       "</mark>\n",
       "'s summary</div></span>"
      ],
      "text/plain": [
       "<IPython.core.display.HTML object>"
      ]
     },
     "metadata": {},
     "output_type": "display_data"
    },
    {
     "name": "stdout",
     "output_type": "stream",
     "text": [
      "TIME INFERENCE: 4.9867730140686035\n",
      "🤖==========================================================================================🤖\n",
      "\n",
      "\n",
      "{'date_range': 'last week', 'from_date': '27/03/2025', 'to_date': '02/04/2025', 'product': 'Live Casino', 'product_detail': 'All', 'level': 'All', 'user': 'N/A'}\n",
      "🫂 QUERY: How did we perform in live casino last week?\n",
      "😍 ENTITIES: \n"
     ]
    },
    {
     "data": {
      "text/html": [
       "<span class=\"tex2jax_ignore\"><div class=\"entities\" style=\"line-height: 2.5; direction: ltr\">How did we perform in live casino \n",
       "<mark class=\"entity\" style=\"background: #ddd; padding: 0.45em 0.6em; margin: 0 0.25em; line-height: 1; border-radius: 0.35em;\">\n",
       "    last week\n",
       "    <span style=\"font-size: 0.8em; font-weight: bold; line-height: 1; border-radius: 0.35em; vertical-align: middle; margin-left: 0.5rem\">date_range</span>\n",
       "</mark>\n",
       "?</div></span>"
      ],
      "text/plain": [
       "<IPython.core.display.HTML object>"
      ]
     },
     "metadata": {},
     "output_type": "display_data"
    },
    {
     "name": "stdout",
     "output_type": "stream",
     "text": [
      "TIME INFERENCE: 4.916509628295898\n",
      "🤖==========================================================================================🤖\n",
      "\n",
      "\n",
      "{'date_range': 'last week', 'from_date': '27/03/2025', 'to_date': '02/04/2025', 'product': 'All', 'product_detail': 'All', 'level': 'Master Agent', 'user': 'master abc1'}\n",
      "🫂 QUERY: The amount I need to pay for master abc1 last week\n",
      "😍 ENTITIES: \n"
     ]
    },
    {
     "data": {
      "text/html": [
       "<span class=\"tex2jax_ignore\"><div class=\"entities\" style=\"line-height: 2.5; direction: ltr\">The amount I need to pay for \n",
       "<mark class=\"entity\" style=\"background: #ddd; padding: 0.45em 0.6em; margin: 0 0.25em; line-height: 1; border-radius: 0.35em;\">\n",
       "    master abc1\n",
       "    <span style=\"font-size: 0.8em; font-weight: bold; line-height: 1; border-radius: 0.35em; vertical-align: middle; margin-left: 0.5rem\">user</span>\n",
       "</mark>\n",
       " \n",
       "<mark class=\"entity\" style=\"background: #ddd; padding: 0.45em 0.6em; margin: 0 0.25em; line-height: 1; border-radius: 0.35em;\">\n",
       "    last week\n",
       "    <span style=\"font-size: 0.8em; font-weight: bold; line-height: 1; border-radius: 0.35em; vertical-align: middle; margin-left: 0.5rem\">date_range</span>\n",
       "</mark>\n",
       "</div></span>"
      ],
      "text/plain": [
       "<IPython.core.display.HTML object>"
      ]
     },
     "metadata": {},
     "output_type": "display_data"
    },
    {
     "name": "stdout",
     "output_type": "stream",
     "text": [
      "TIME INFERENCE: 5.061266899108887\n",
      "🤖==========================================================================================🤖\n",
      "\n",
      "\n",
      "{'date_range': 'N/A', 'from_date': 'N/A', 'to_date': 'N/A', 'product': 'All', 'product_detail': 'All', 'level': 'Master Agent', 'user': 'master1'}\n",
      "🫂 QUERY: Get report of master1\n",
      "😍 ENTITIES: \n"
     ]
    },
    {
     "data": {
      "text/html": [
       "<span class=\"tex2jax_ignore\"><div class=\"entities\" style=\"line-height: 2.5; direction: ltr\">Get report of \n",
       "<mark class=\"entity\" style=\"background: #ddd; padding: 0.45em 0.6em; margin: 0 0.25em; line-height: 1; border-radius: 0.35em;\">\n",
       "    master1\n",
       "    <span style=\"font-size: 0.8em; font-weight: bold; line-height: 1; border-radius: 0.35em; vertical-align: middle; margin-left: 0.5rem\">user</span>\n",
       "</mark>\n",
       "</div></span>"
      ],
      "text/plain": [
       "<IPython.core.display.HTML object>"
      ]
     },
     "metadata": {},
     "output_type": "display_data"
    },
    {
     "name": "stdout",
     "output_type": "stream",
     "text": [
      "TIME INFERENCE: 4.570035696029663\n",
      "🤖==========================================================================================🤖\n",
      "\n",
      "\n",
      "{'date_range': 'N/A', 'from_date': 'N/A', 'to_date': 'N/A', 'product': 'Sportsbook', 'product_detail': 'All', 'level': 'All', 'user': 'N/A'}\n",
      "🫂 QUERY: Win/Loss details for Product Sportsbook\n",
      "😍 ENTITIES: \n"
     ]
    },
    {
     "data": {
      "text/html": [
       "<span class=\"tex2jax_ignore\"><div class=\"entities\" style=\"line-height: 2.5; direction: ltr\">Win/Loss details for Product \n",
       "<mark class=\"entity\" style=\"background: #bfeeb7; padding: 0.45em 0.6em; margin: 0 0.25em; line-height: 1; border-radius: 0.35em;\">\n",
       "    Sportsbook\n",
       "    <span style=\"font-size: 0.8em; font-weight: bold; line-height: 1; border-radius: 0.35em; vertical-align: middle; margin-left: 0.5rem\">product</span>\n",
       "</mark>\n",
       "</div></span>"
      ],
      "text/plain": [
       "<IPython.core.display.HTML object>"
      ]
     },
     "metadata": {},
     "output_type": "display_data"
    },
    {
     "name": "stdout",
     "output_type": "stream",
     "text": [
      "TIME INFERENCE: 4.615182876586914\n",
      "🤖==========================================================================================🤖\n",
      "\n",
      "\n",
      "{'date_range': 'N/A', 'from_date': 'N/A', 'to_date': 'N/A', 'product': 'All', 'product_detail': 'All', 'level': 'Master Agent', 'user': 'master1'}\n",
      "🫂 QUERY: Get me a Win Loss Detail Report of master1\n",
      "😍 ENTITIES: \n"
     ]
    },
    {
     "data": {
      "text/html": [
       "<span class=\"tex2jax_ignore\"><div class=\"entities\" style=\"line-height: 2.5; direction: ltr\">Get me a Win Loss Detail Report of \n",
       "<mark class=\"entity\" style=\"background: #ddd; padding: 0.45em 0.6em; margin: 0 0.25em; line-height: 1; border-radius: 0.35em;\">\n",
       "    master1\n",
       "    <span style=\"font-size: 0.8em; font-weight: bold; line-height: 1; border-radius: 0.35em; vertical-align: middle; margin-left: 0.5rem\">user</span>\n",
       "</mark>\n",
       "</div></span>"
      ],
      "text/plain": [
       "<IPython.core.display.HTML object>"
      ]
     },
     "metadata": {},
     "output_type": "display_data"
    },
    {
     "name": "stdout",
     "output_type": "stream",
     "text": [
      "TIME INFERENCE: 4.564401388168335\n",
      "🤖==========================================================================================🤖\n",
      "\n",
      "\n"
     ]
    }
   ],
   "source": [
    "queries = [\n",
    "    \"Get me a Win Loss Detail Report yesterday\",\n",
    "    \"Get me a Turnover Detail Report on day 10\",\n",
    "    \"Net Turnover Detail Report from 1/1 to 31/1\",\n",
    "    \"Get me a Win Loss Detail Report for Direct Member who played Product Detail Sportsbook in Sportsbook Product from 01/02/2024 to 15/02/2024\",\n",
    "    \"Give me my Win Loss Detail report  last week\",\n",
    "    \"Give me a Win Loss Detail report for Sportsbook from last week.\",\n",
    "    \"Give me my Win Loss Detail report  last week\",\n",
    "    \"Get me a Company Report of master1\",\n",
    "    \"Win/Loss details for Product Sportsbook\",\n",
    "    \"Get me a Win Loss on day 10\",\n",
    "    \"I want Win Loss report of Sportsbook this week\",\n",
    "    \"I want performance of abc1 last week\",\n",
    "    \"Live Casino Win Loss report of Master master1 yesterday\",\n",
    "    \"I need Win Loss report of Agent agent01 last week\",\n",
    "    \"Show me today's summary\",\n",
    "    \"How did we perform in live casino last week?\",\n",
    "    \"The amount I need to pay for master abc1 last week\",\n",
    "    \"Get report of master1\",\n",
    "    \"Win/Loss details for Product Sportsbook\",\n",
    "    \"Get me a Win Loss Detail Report of master1\"\n",
    "]\n",
    "\n",
    "test(queries=queries)"
   ]
  },
  {
   "cell_type": "code",
   "execution_count": 13,
   "metadata": {},
   "outputs": [
    {
     "name": "stdout",
     "output_type": "stream",
     "text": [
      "{'date_range': '10/05/2023 to 15/06/2023', 'from_date': '10/05/2023', 'to_date': '15/06/2023', 'product': 'Sportsbook', 'product_detail': 'All', 'level': 'Agent', 'user': 'ABCTeam2345'}\n",
      "🫂 QUERY: Can you generate a Win/Loss report for ABCTeam, specifically for the user ABCTeam2345, who is an active member within the Sportsbook Product with details during the period from 10/05/2023 to 15/06/2023?\n",
      "😍 ENTITIES: \n"
     ]
    },
    {
     "data": {
      "text/html": [
       "<span class=\"tex2jax_ignore\"><div class=\"entities\" style=\"line-height: 2.5; direction: ltr\">Can you generate a Win/Loss report for ABCTeam, specifically for the user \n",
       "<mark class=\"entity\" style=\"background: #ddd; padding: 0.45em 0.6em; margin: 0 0.25em; line-height: 1; border-radius: 0.35em;\">\n",
       "    ABCTeam2345\n",
       "    <span style=\"font-size: 0.8em; font-weight: bold; line-height: 1; border-radius: 0.35em; vertical-align: middle; margin-left: 0.5rem\">user</span>\n",
       "</mark>\n",
       ", who is an active member within the \n",
       "<mark class=\"entity\" style=\"background: #bfeeb7; padding: 0.45em 0.6em; margin: 0 0.25em; line-height: 1; border-radius: 0.35em;\">\n",
       "    Sportsbook\n",
       "    <span style=\"font-size: 0.8em; font-weight: bold; line-height: 1; border-radius: 0.35em; vertical-align: middle; margin-left: 0.5rem\">product</span>\n",
       "</mark>\n",
       " Product with details during the period from \n",
       "<mark class=\"entity\" style=\"background: #ddd; padding: 0.45em 0.6em; margin: 0 0.25em; line-height: 1; border-radius: 0.35em;\">\n",
       "    10/05/2023\n",
       "    <span style=\"font-size: 0.8em; font-weight: bold; line-height: 1; border-radius: 0.35em; vertical-align: middle; margin-left: 0.5rem\">from_date</span>\n",
       "</mark>\n",
       "\n",
       "<mark class=\"entity\" style=\"background: #ddd; padding: 0.45em 0.6em; margin: 0 0.25em; line-height: 1; border-radius: 0.35em;\">\n",
       "    10/05/2023 to 15/06/2023\n",
       "    <span style=\"font-size: 0.8em; font-weight: bold; line-height: 1; border-radius: 0.35em; vertical-align: middle; margin-left: 0.5rem\">date_range</span>\n",
       "</mark>\n",
       "\n",
       "<mark class=\"entity\" style=\"background: #ddd; padding: 0.45em 0.6em; margin: 0 0.25em; line-height: 1; border-radius: 0.35em;\">\n",
       "    15/06/2023\n",
       "    <span style=\"font-size: 0.8em; font-weight: bold; line-height: 1; border-radius: 0.35em; vertical-align: middle; margin-left: 0.5rem\">to_date</span>\n",
       "</mark>\n",
       "?</div></span>"
      ],
      "text/plain": [
       "<IPython.core.display.HTML object>"
      ]
     },
     "metadata": {},
     "output_type": "display_data"
    },
    {
     "name": "stdout",
     "output_type": "stream",
     "text": [
      "TIME INFERENCE: 11.69409728050232\n",
      "🤖==========================================================================================🤖\n",
      "\n",
      "\n",
      "{'date_range': 'February to April 2023', 'from_date': '01/02/2023', 'to_date': '30/04/2023', 'product': 'Sportsbook', 'product_detail': 'All', 'level': 'All', 'user': 'ABCTeam2345'}\n",
      "🫂 QUERY: I need a Win/Loss report for the user ABCTeam2345 in the Sportsbook Product covering activities from February to April 2023.\n",
      "😍 ENTITIES: \n"
     ]
    },
    {
     "data": {
      "text/html": [
       "<span class=\"tex2jax_ignore\"><div class=\"entities\" style=\"line-height: 2.5; direction: ltr\">I need a Win/Loss report for the user \n",
       "<mark class=\"entity\" style=\"background: #ddd; padding: 0.45em 0.6em; margin: 0 0.25em; line-height: 1; border-radius: 0.35em;\">\n",
       "    ABCTeam2345\n",
       "    <span style=\"font-size: 0.8em; font-weight: bold; line-height: 1; border-radius: 0.35em; vertical-align: middle; margin-left: 0.5rem\">user</span>\n",
       "</mark>\n",
       " in the \n",
       "<mark class=\"entity\" style=\"background: #bfeeb7; padding: 0.45em 0.6em; margin: 0 0.25em; line-height: 1; border-radius: 0.35em;\">\n",
       "    Sportsbook\n",
       "    <span style=\"font-size: 0.8em; font-weight: bold; line-height: 1; border-radius: 0.35em; vertical-align: middle; margin-left: 0.5rem\">product</span>\n",
       "</mark>\n",
       " Product covering activities from \n",
       "<mark class=\"entity\" style=\"background: #ddd; padding: 0.45em 0.6em; margin: 0 0.25em; line-height: 1; border-radius: 0.35em;\">\n",
       "    February to April 2023\n",
       "    <span style=\"font-size: 0.8em; font-weight: bold; line-height: 1; border-radius: 0.35em; vertical-align: middle; margin-left: 0.5rem\">date_range</span>\n",
       "</mark>\n",
       ".</div></span>"
      ],
      "text/plain": [
       "<IPython.core.display.HTML object>"
      ]
     },
     "metadata": {},
     "output_type": "display_data"
    },
    {
     "name": "stdout",
     "output_type": "stream",
     "text": [
      "TIME INFERENCE: 28.025195598602295\n",
      "🤖==========================================================================================🤖\n",
      "\n",
      "\n",
      "{'date_range': 'March 20 to April 30, 2023', 'from_date': '20/03/2023', 'to_date': '30/04/2023', 'product': 'Sportsbook', 'product_detail': 'All', 'level': 'All', 'user': 'ABCTeam'}\n",
      "🫂 QUERY: Please provide a Win/Loss report for the user ABCTeam in the Sportsbook Product with details between the dates of March 20 and April 30, 2023.\n",
      "😍 ENTITIES: \n"
     ]
    },
    {
     "data": {
      "text/html": [
       "<span class=\"tex2jax_ignore\"><div class=\"entities\" style=\"line-height: 2.5; direction: ltr\">Please provide a Win/Loss report for the user \n",
       "<mark class=\"entity\" style=\"background: #ddd; padding: 0.45em 0.6em; margin: 0 0.25em; line-height: 1; border-radius: 0.35em;\">\n",
       "    ABCTeam\n",
       "    <span style=\"font-size: 0.8em; font-weight: bold; line-height: 1; border-radius: 0.35em; vertical-align: middle; margin-left: 0.5rem\">user</span>\n",
       "</mark>\n",
       " in the \n",
       "<mark class=\"entity\" style=\"background: #bfeeb7; padding: 0.45em 0.6em; margin: 0 0.25em; line-height: 1; border-radius: 0.35em;\">\n",
       "    Sportsbook\n",
       "    <span style=\"font-size: 0.8em; font-weight: bold; line-height: 1; border-radius: 0.35em; vertical-align: middle; margin-left: 0.5rem\">product</span>\n",
       "</mark>\n",
       " Product with details between the dates of March 20 and April 30, 2023.</div></span>"
      ],
      "text/plain": [
       "<IPython.core.display.HTML object>"
      ]
     },
     "metadata": {},
     "output_type": "display_data"
    },
    {
     "name": "stdout",
     "output_type": "stream",
     "text": [
      "TIME INFERENCE: 6.829957962036133\n",
      "🤖==========================================================================================🤖\n",
      "\n",
      "\n",
      "{'date_range': 'January', 'from_date': '01/01/2025', 'to_date': '31/01/2025', 'product': 'Sportsbook', 'product_detail': 'All', 'level': 'Direct Member', 'user': 'AB2C3D4E5'}\n",
      "🫂 QUERY: Could you provide a detailed Win/Loss report for AB2C3D4E5, who is an active member under the Sportsbook product with details of transactions during January?\n",
      "😍 ENTITIES: \n"
     ]
    },
    {
     "data": {
      "text/html": [
       "<span class=\"tex2jax_ignore\"><div class=\"entities\" style=\"line-height: 2.5; direction: ltr\">Could you provide a detailed Win/Loss report for \n",
       "<mark class=\"entity\" style=\"background: #ddd; padding: 0.45em 0.6em; margin: 0 0.25em; line-height: 1; border-radius: 0.35em;\">\n",
       "    AB2C3D4E5\n",
       "    <span style=\"font-size: 0.8em; font-weight: bold; line-height: 1; border-radius: 0.35em; vertical-align: middle; margin-left: 0.5rem\">user</span>\n",
       "</mark>\n",
       ", who is an active member under the \n",
       "<mark class=\"entity\" style=\"background: #bfeeb7; padding: 0.45em 0.6em; margin: 0 0.25em; line-height: 1; border-radius: 0.35em;\">\n",
       "    Sportsbook\n",
       "    <span style=\"font-size: 0.8em; font-weight: bold; line-height: 1; border-radius: 0.35em; vertical-align: middle; margin-left: 0.5rem\">product</span>\n",
       "</mark>\n",
       " product with details of transactions during \n",
       "<mark class=\"entity\" style=\"background: #ddd; padding: 0.45em 0.6em; margin: 0 0.25em; line-height: 1; border-radius: 0.35em;\">\n",
       "    January\n",
       "    <span style=\"font-size: 0.8em; font-weight: bold; line-height: 1; border-radius: 0.35em; vertical-align: middle; margin-left: 0.5rem\">date_range</span>\n",
       "</mark>\n",
       "?</div></span>"
      ],
      "text/plain": [
       "<IPython.core.display.HTML object>"
      ]
     },
     "metadata": {},
     "output_type": "display_data"
    },
    {
     "name": "stdout",
     "output_type": "stream",
     "text": [
      "TIME INFERENCE: 6.309334754943848\n",
      "🤖==========================================================================================🤖\n",
      "\n",
      "\n",
      "{'date_range': 'February', 'from_date': '01/02/2025', 'to_date': '29/02/2025', 'product': 'Sportsbook', 'product_detail': 'All', 'level': 'All', 'user': 'AB2C3D4E5'}\n",
      "🫂 QUERY: Please generate a report for user AB2C3D4E5 indicating their activity in the Sportsbook product during February.\n",
      "😍 ENTITIES: \n"
     ]
    },
    {
     "data": {
      "text/html": [
       "<span class=\"tex2jax_ignore\"><div class=\"entities\" style=\"line-height: 2.5; direction: ltr\">Please generate a report for user \n",
       "<mark class=\"entity\" style=\"background: #ddd; padding: 0.45em 0.6em; margin: 0 0.25em; line-height: 1; border-radius: 0.35em;\">\n",
       "    AB2C3D4E5\n",
       "    <span style=\"font-size: 0.8em; font-weight: bold; line-height: 1; border-radius: 0.35em; vertical-align: middle; margin-left: 0.5rem\">user</span>\n",
       "</mark>\n",
       " indicating their activity in the \n",
       "<mark class=\"entity\" style=\"background: #bfeeb7; padding: 0.45em 0.6em; margin: 0 0.25em; line-height: 1; border-radius: 0.35em;\">\n",
       "    Sportsbook\n",
       "    <span style=\"font-size: 0.8em; font-weight: bold; line-height: 1; border-radius: 0.35em; vertical-align: middle; margin-left: 0.5rem\">product</span>\n",
       "</mark>\n",
       " product during \n",
       "<mark class=\"entity\" style=\"background: #ddd; padding: 0.45em 0.6em; margin: 0 0.25em; line-height: 1; border-radius: 0.35em;\">\n",
       "    February\n",
       "    <span style=\"font-size: 0.8em; font-weight: bold; line-height: 1; border-radius: 0.35em; vertical-align: middle; margin-left: 0.5rem\">date_range</span>\n",
       "</mark>\n",
       ".</div></span>"
      ],
      "text/plain": [
       "<IPython.core.display.HTML object>"
      ]
     },
     "metadata": {},
     "output_type": "display_data"
    },
    {
     "name": "stdout",
     "output_type": "stream",
     "text": [
      "TIME INFERENCE: 6.359321594238281\n",
      "🤖==========================================================================================🤖\n",
      "\n",
      "\n",
      "{'date_range': 'March', 'from_date': '01/03/2025', 'to_date': '31/03/2025', 'product': 'Sportsbook', 'product_detail': 'All', 'level': 'All', 'user': 'AB2C3D4E5'}\n",
      "🫂 QUERY: I need a Win/Loss report for the user AB2C3D4E5 focusing on their transactions in the Sportsbook product during March.\n",
      "😍 ENTITIES: \n"
     ]
    },
    {
     "data": {
      "text/html": [
       "<span class=\"tex2jax_ignore\"><div class=\"entities\" style=\"line-height: 2.5; direction: ltr\">I need a Win/Loss report for the user \n",
       "<mark class=\"entity\" style=\"background: #ddd; padding: 0.45em 0.6em; margin: 0 0.25em; line-height: 1; border-radius: 0.35em;\">\n",
       "    AB2C3D4E5\n",
       "    <span style=\"font-size: 0.8em; font-weight: bold; line-height: 1; border-radius: 0.35em; vertical-align: middle; margin-left: 0.5rem\">user</span>\n",
       "</mark>\n",
       " focusing on their transactions in the \n",
       "<mark class=\"entity\" style=\"background: #bfeeb7; padding: 0.45em 0.6em; margin: 0 0.25em; line-height: 1; border-radius: 0.35em;\">\n",
       "    Sportsbook\n",
       "    <span style=\"font-size: 0.8em; font-weight: bold; line-height: 1; border-radius: 0.35em; vertical-align: middle; margin-left: 0.5rem\">product</span>\n",
       "</mark>\n",
       " product during \n",
       "<mark class=\"entity\" style=\"background: #ddd; padding: 0.45em 0.6em; margin: 0 0.25em; line-height: 1; border-radius: 0.35em;\">\n",
       "    March\n",
       "    <span style=\"font-size: 0.8em; font-weight: bold; line-height: 1; border-radius: 0.35em; vertical-align: middle; margin-left: 0.5rem\">date_range</span>\n",
       "</mark>\n",
       ".</div></span>"
      ],
      "text/plain": [
       "<IPython.core.display.HTML object>"
      ]
     },
     "metadata": {},
     "output_type": "display_data"
    },
    {
     "name": "stdout",
     "output_type": "stream",
     "text": [
      "TIME INFERENCE: 6.358182907104492\n",
      "🤖==========================================================================================🤖\n",
      "\n",
      "\n",
      "{'date_range': 'April', 'from_date': '01/04/2025', 'to_date': '30/04/2025', 'product': 'Sportsbook', 'product_detail': 'All', 'level': 'All', 'user': 'N/A'}\n",
      "🫂 QUERY: Can you prepare a detailed Win/Loss report for AB2C3D4E5 highlighting their activities in the Sportsbook product during April?\n",
      "😍 ENTITIES: \n"
     ]
    },
    {
     "data": {
      "text/html": [
       "<span class=\"tex2jax_ignore\"><div class=\"entities\" style=\"line-height: 2.5; direction: ltr\">Can you prepare a detailed Win/Loss report for AB2C3D4E5 highlighting their activities in the \n",
       "<mark class=\"entity\" style=\"background: #bfeeb7; padding: 0.45em 0.6em; margin: 0 0.25em; line-height: 1; border-radius: 0.35em;\">\n",
       "    Sportsbook\n",
       "    <span style=\"font-size: 0.8em; font-weight: bold; line-height: 1; border-radius: 0.35em; vertical-align: middle; margin-left: 0.5rem\">product</span>\n",
       "</mark>\n",
       " product during \n",
       "<mark class=\"entity\" style=\"background: #ddd; padding: 0.45em 0.6em; margin: 0 0.25em; line-height: 1; border-radius: 0.35em;\">\n",
       "    April\n",
       "    <span style=\"font-size: 0.8em; font-weight: bold; line-height: 1; border-radius: 0.35em; vertical-align: middle; margin-left: 0.5rem\">date_range</span>\n",
       "</mark>\n",
       "?</div></span>"
      ],
      "text/plain": [
       "<IPython.core.display.HTML object>"
      ]
     },
     "metadata": {},
     "output_type": "display_data"
    },
    {
     "name": "stdout",
     "output_type": "stream",
     "text": [
      "TIME INFERENCE: 26.366536617279053\n",
      "🤖==========================================================================================🤖\n",
      "\n",
      "\n",
      "{'date_range': 'during May', 'from_date': '01/05/2025', 'to_date': '31/05/2025', 'product': 'Sportsbook', 'product_detail': 'All', 'level': 'All', 'user': 'N/A'}\n",
      "🫂 QUERY: Generate a Win/Loss report for AB2C3D4E5 and focus on their transactions within the Sportsbook product during May.\n",
      "😍 ENTITIES: \n"
     ]
    },
    {
     "data": {
      "text/html": [
       "<span class=\"tex2jax_ignore\"><div class=\"entities\" style=\"line-height: 2.5; direction: ltr\">Generate a Win/Loss report for AB2C3D4E5 and focus on their transactions within the \n",
       "<mark class=\"entity\" style=\"background: #bfeeb7; padding: 0.45em 0.6em; margin: 0 0.25em; line-height: 1; border-radius: 0.35em;\">\n",
       "    Sportsbook\n",
       "    <span style=\"font-size: 0.8em; font-weight: bold; line-height: 1; border-radius: 0.35em; vertical-align: middle; margin-left: 0.5rem\">product</span>\n",
       "</mark>\n",
       " product \n",
       "<mark class=\"entity\" style=\"background: #ddd; padding: 0.45em 0.6em; margin: 0 0.25em; line-height: 1; border-radius: 0.35em;\">\n",
       "    during May\n",
       "    <span style=\"font-size: 0.8em; font-weight: bold; line-height: 1; border-radius: 0.35em; vertical-align: middle; margin-left: 0.5rem\">date_range</span>\n",
       "</mark>\n",
       ".</div></span>"
      ],
      "text/plain": [
       "<IPython.core.display.HTML object>"
      ]
     },
     "metadata": {},
     "output_type": "display_data"
    },
    {
     "name": "stdout",
     "output_type": "stream",
     "text": [
      "TIME INFERENCE: 6.261574983596802\n",
      "🤖==========================================================================================🤖\n",
      "\n",
      "\n",
      "{'date_range': 'June 1st to July 15th', 'from_date': '01/06/2025', 'to_date': '15/07/2025', 'product': 'Sportsbook', 'product_detail': 'All', 'level': 'Active Member', 'user': 'AB4235'}\n",
      "🫂 QUERY: Could you please generate a Win/Loss report for ABUser ID: AB4235, who is an Active Member and was active within the Sportsbook Product with specific details from June 1st to July 15th?\n",
      "😍 ENTITIES: \n"
     ]
    },
    {
     "data": {
      "text/html": [
       "<span class=\"tex2jax_ignore\"><div class=\"entities\" style=\"line-height: 2.5; direction: ltr\">Could you please generate a Win/Loss report for ABUser ID: \n",
       "<mark class=\"entity\" style=\"background: #ddd; padding: 0.45em 0.6em; margin: 0 0.25em; line-height: 1; border-radius: 0.35em;\">\n",
       "    AB4235\n",
       "    <span style=\"font-size: 0.8em; font-weight: bold; line-height: 1; border-radius: 0.35em; vertical-align: middle; margin-left: 0.5rem\">user</span>\n",
       "</mark>\n",
       ", who is an \n",
       "<mark class=\"entity\" style=\"background: #ddd; padding: 0.45em 0.6em; margin: 0 0.25em; line-height: 1; border-radius: 0.35em;\">\n",
       "    Active Member\n",
       "    <span style=\"font-size: 0.8em; font-weight: bold; line-height: 1; border-radius: 0.35em; vertical-align: middle; margin-left: 0.5rem\">level</span>\n",
       "</mark>\n",
       " and was active within the \n",
       "<mark class=\"entity\" style=\"background: #bfeeb7; padding: 0.45em 0.6em; margin: 0 0.25em; line-height: 1; border-radius: 0.35em;\">\n",
       "    Sportsbook\n",
       "    <span style=\"font-size: 0.8em; font-weight: bold; line-height: 1; border-radius: 0.35em; vertical-align: middle; margin-left: 0.5rem\">product</span>\n",
       "</mark>\n",
       " Product with specific details from \n",
       "<mark class=\"entity\" style=\"background: #ddd; padding: 0.45em 0.6em; margin: 0 0.25em; line-height: 1; border-radius: 0.35em;\">\n",
       "    June 1st to July 15th\n",
       "    <span style=\"font-size: 0.8em; font-weight: bold; line-height: 1; border-radius: 0.35em; vertical-align: middle; margin-left: 0.5rem\">date_range</span>\n",
       "</mark>\n",
       "?</div></span>"
      ],
      "text/plain": [
       "<IPython.core.display.HTML object>"
      ]
     },
     "metadata": {},
     "output_type": "display_data"
    },
    {
     "name": "stdout",
     "output_type": "stream",
     "text": [
      "TIME INFERENCE: 6.858227729797363\n",
      "🤖==========================================================================================🤖\n",
      "\n",
      "\n",
      "{'date_range': 'May 1st to June 1st', 'from_date': '01/05/2025', 'to_date': '01/06/2025', 'product': 'Sportsbook', 'product_detail': 'All', 'level': 'Active Member', 'user': 'AB4235'}\n",
      "🫂 QUERY: I need the Win/Loss report for user AB4235, an Active Member, who was active in the Sportsbook Product from May 1st to June 1st.\n",
      "😍 ENTITIES: \n"
     ]
    },
    {
     "data": {
      "text/html": [
       "<span class=\"tex2jax_ignore\"><div class=\"entities\" style=\"line-height: 2.5; direction: ltr\">I need the Win/Loss report for user \n",
       "<mark class=\"entity\" style=\"background: #ddd; padding: 0.45em 0.6em; margin: 0 0.25em; line-height: 1; border-radius: 0.35em;\">\n",
       "    AB4235\n",
       "    <span style=\"font-size: 0.8em; font-weight: bold; line-height: 1; border-radius: 0.35em; vertical-align: middle; margin-left: 0.5rem\">user</span>\n",
       "</mark>\n",
       ", an \n",
       "<mark class=\"entity\" style=\"background: #ddd; padding: 0.45em 0.6em; margin: 0 0.25em; line-height: 1; border-radius: 0.35em;\">\n",
       "    Active Member\n",
       "    <span style=\"font-size: 0.8em; font-weight: bold; line-height: 1; border-radius: 0.35em; vertical-align: middle; margin-left: 0.5rem\">level</span>\n",
       "</mark>\n",
       ", who was active in the \n",
       "<mark class=\"entity\" style=\"background: #bfeeb7; padding: 0.45em 0.6em; margin: 0 0.25em; line-height: 1; border-radius: 0.35em;\">\n",
       "    Sportsbook\n",
       "    <span style=\"font-size: 0.8em; font-weight: bold; line-height: 1; border-radius: 0.35em; vertical-align: middle; margin-left: 0.5rem\">product</span>\n",
       "</mark>\n",
       " Product from \n",
       "<mark class=\"entity\" style=\"background: #ddd; padding: 0.45em 0.6em; margin: 0 0.25em; line-height: 1; border-radius: 0.35em;\">\n",
       "    May 1st to June 1st\n",
       "    <span style=\"font-size: 0.8em; font-weight: bold; line-height: 1; border-radius: 0.35em; vertical-align: middle; margin-left: 0.5rem\">date_range</span>\n",
       "</mark>\n",
       ".</div></span>"
      ],
      "text/plain": [
       "<IPython.core.display.HTML object>"
      ]
     },
     "metadata": {},
     "output_type": "display_data"
    },
    {
     "name": "stdout",
     "output_type": "stream",
     "text": [
      "TIME INFERENCE: 6.756273508071899\n",
      "🤖==========================================================================================🤖\n",
      "\n",
      "\n",
      "{'date_range': 'June 1st to July 15th', 'from_date': '01/06/2025', 'to_date': '15/07/2025', 'product': 'Sportsbook', 'product_detail': 'All', 'level': 'Active Member', 'user': 'AB4235'}\n",
      "🫂 QUERY: Please provide the Win/Loss report for user AB4235 who is an Active Member and was active in Sportsbook Product from June 1st to July 15th.\n",
      "😍 ENTITIES: \n"
     ]
    },
    {
     "data": {
      "text/html": [
       "<span class=\"tex2jax_ignore\"><div class=\"entities\" style=\"line-height: 2.5; direction: ltr\">Please provide the Win/Loss report for user \n",
       "<mark class=\"entity\" style=\"background: #ddd; padding: 0.45em 0.6em; margin: 0 0.25em; line-height: 1; border-radius: 0.35em;\">\n",
       "    AB4235\n",
       "    <span style=\"font-size: 0.8em; font-weight: bold; line-height: 1; border-radius: 0.35em; vertical-align: middle; margin-left: 0.5rem\">user</span>\n",
       "</mark>\n",
       " who is an \n",
       "<mark class=\"entity\" style=\"background: #ddd; padding: 0.45em 0.6em; margin: 0 0.25em; line-height: 1; border-radius: 0.35em;\">\n",
       "    Active Member\n",
       "    <span style=\"font-size: 0.8em; font-weight: bold; line-height: 1; border-radius: 0.35em; vertical-align: middle; margin-left: 0.5rem\">level</span>\n",
       "</mark>\n",
       " and was active in \n",
       "<mark class=\"entity\" style=\"background: #bfeeb7; padding: 0.45em 0.6em; margin: 0 0.25em; line-height: 1; border-radius: 0.35em;\">\n",
       "    Sportsbook\n",
       "    <span style=\"font-size: 0.8em; font-weight: bold; line-height: 1; border-radius: 0.35em; vertical-align: middle; margin-left: 0.5rem\">product</span>\n",
       "</mark>\n",
       " Product from \n",
       "<mark class=\"entity\" style=\"background: #ddd; padding: 0.45em 0.6em; margin: 0 0.25em; line-height: 1; border-radius: 0.35em;\">\n",
       "    June 1st to July 15th\n",
       "    <span style=\"font-size: 0.8em; font-weight: bold; line-height: 1; border-radius: 0.35em; vertical-align: middle; margin-left: 0.5rem\">date_range</span>\n",
       "</mark>\n",
       ".</div></span>"
      ],
      "text/plain": [
       "<IPython.core.display.HTML object>"
      ]
     },
     "metadata": {},
     "output_type": "display_data"
    },
    {
     "name": "stdout",
     "output_type": "stream",
     "text": [
      "TIME INFERENCE: 6.681485652923584\n",
      "🤖==========================================================================================🤖\n",
      "\n",
      "\n",
      "{'date_range': 'March 2024', 'from_date': '01/03/2024', 'to_date': '31/03/2024', 'product': 'Sportsbook', 'product_detail': 'All', 'level': 'Direct Member', 'user': 'ABCTEST123'}\n",
      "🫂 QUERY: Can you provide a Win/Loss report for ABCTEST123, a Direct Member, who was active on the Sportsbook Product with details during March 2024?\n",
      "😍 ENTITIES: \n"
     ]
    },
    {
     "data": {
      "text/html": [
       "<span class=\"tex2jax_ignore\"><div class=\"entities\" style=\"line-height: 2.5; direction: ltr\">Can you provide a Win/Loss report for \n",
       "<mark class=\"entity\" style=\"background: #ddd; padding: 0.45em 0.6em; margin: 0 0.25em; line-height: 1; border-radius: 0.35em;\">\n",
       "    ABCTEST123\n",
       "    <span style=\"font-size: 0.8em; font-weight: bold; line-height: 1; border-radius: 0.35em; vertical-align: middle; margin-left: 0.5rem\">user</span>\n",
       "</mark>\n",
       ", a \n",
       "<mark class=\"entity\" style=\"background: #ddd; padding: 0.45em 0.6em; margin: 0 0.25em; line-height: 1; border-radius: 0.35em;\">\n",
       "    Direct Member\n",
       "    <span style=\"font-size: 0.8em; font-weight: bold; line-height: 1; border-radius: 0.35em; vertical-align: middle; margin-left: 0.5rem\">level</span>\n",
       "</mark>\n",
       ", who was active on the \n",
       "<mark class=\"entity\" style=\"background: #bfeeb7; padding: 0.45em 0.6em; margin: 0 0.25em; line-height: 1; border-radius: 0.35em;\">\n",
       "    Sportsbook\n",
       "    <span style=\"font-size: 0.8em; font-weight: bold; line-height: 1; border-radius: 0.35em; vertical-align: middle; margin-left: 0.5rem\">product</span>\n",
       "</mark>\n",
       " Product with details during \n",
       "<mark class=\"entity\" style=\"background: #ddd; padding: 0.45em 0.6em; margin: 0 0.25em; line-height: 1; border-radius: 0.35em;\">\n",
       "    March 2024\n",
       "    <span style=\"font-size: 0.8em; font-weight: bold; line-height: 1; border-radius: 0.35em; vertical-align: middle; margin-left: 0.5rem\">date_range</span>\n",
       "</mark>\n",
       "?</div></span>"
      ],
      "text/plain": [
       "<IPython.core.display.HTML object>"
      ]
     },
     "metadata": {},
     "output_type": "display_data"
    },
    {
     "name": "stdout",
     "output_type": "stream",
     "text": [
      "TIME INFERENCE: 9.699941873550415\n",
      "🤖==========================================================================================🤖\n",
      "\n",
      "\n",
      "{'date_range': 'April', 'from_date': '01/04/2025', 'to_date': '30/04/2025', 'product': 'Sportsbook', 'product_detail': 'All', 'level': 'All', 'user': 'ABCTEST123'}\n",
      "🫂 QUERY: Generate a report showing the activities of user ABCTEST123 during April for their involvement in Sportsbook.\n",
      "😍 ENTITIES: \n"
     ]
    },
    {
     "data": {
      "text/html": [
       "<span class=\"tex2jax_ignore\"><div class=\"entities\" style=\"line-height: 2.5; direction: ltr\">Generate a report showing the activities of user \n",
       "<mark class=\"entity\" style=\"background: #ddd; padding: 0.45em 0.6em; margin: 0 0.25em; line-height: 1; border-radius: 0.35em;\">\n",
       "    ABCTEST123\n",
       "    <span style=\"font-size: 0.8em; font-weight: bold; line-height: 1; border-radius: 0.35em; vertical-align: middle; margin-left: 0.5rem\">user</span>\n",
       "</mark>\n",
       " during \n",
       "<mark class=\"entity\" style=\"background: #ddd; padding: 0.45em 0.6em; margin: 0 0.25em; line-height: 1; border-radius: 0.35em;\">\n",
       "    April\n",
       "    <span style=\"font-size: 0.8em; font-weight: bold; line-height: 1; border-radius: 0.35em; vertical-align: middle; margin-left: 0.5rem\">date_range</span>\n",
       "</mark>\n",
       " for their involvement in \n",
       "<mark class=\"entity\" style=\"background: #bfeeb7; padding: 0.45em 0.6em; margin: 0 0.25em; line-height: 1; border-radius: 0.35em;\">\n",
       "    Sportsbook\n",
       "    <span style=\"font-size: 0.8em; font-weight: bold; line-height: 1; border-radius: 0.35em; vertical-align: middle; margin-left: 0.5rem\">product</span>\n",
       "</mark>\n",
       ".</div></span>"
      ],
      "text/plain": [
       "<IPython.core.display.HTML object>"
      ]
     },
     "metadata": {},
     "output_type": "display_data"
    },
    {
     "name": "stdout",
     "output_type": "stream",
     "text": [
      "TIME INFERENCE: 31.614553213119507\n",
      "🤖==========================================================================================🤖\n",
      "\n",
      "\n",
      "{'date_range': 'May to July this year', 'from_date': '01/05/2025', 'to_date': '31/07/2025', 'product': 'Sportsbook', 'product_detail': 'All', 'level': 'All', 'user': 'ABCTEST123'}\n",
      "🫂 QUERY: I need a detailed performance report for the user ABCTEST123 in the Sportsbook Product from May to July this year.\n",
      "😍 ENTITIES: \n"
     ]
    },
    {
     "data": {
      "text/html": [
       "<span class=\"tex2jax_ignore\"><div class=\"entities\" style=\"line-height: 2.5; direction: ltr\">I need a detailed performance report for the user \n",
       "<mark class=\"entity\" style=\"background: #ddd; padding: 0.45em 0.6em; margin: 0 0.25em; line-height: 1; border-radius: 0.35em;\">\n",
       "    ABCTEST123\n",
       "    <span style=\"font-size: 0.8em; font-weight: bold; line-height: 1; border-radius: 0.35em; vertical-align: middle; margin-left: 0.5rem\">user</span>\n",
       "</mark>\n",
       " in the \n",
       "<mark class=\"entity\" style=\"background: #bfeeb7; padding: 0.45em 0.6em; margin: 0 0.25em; line-height: 1; border-radius: 0.35em;\">\n",
       "    Sportsbook\n",
       "    <span style=\"font-size: 0.8em; font-weight: bold; line-height: 1; border-radius: 0.35em; vertical-align: middle; margin-left: 0.5rem\">product</span>\n",
       "</mark>\n",
       " Product from \n",
       "<mark class=\"entity\" style=\"background: #ddd; padding: 0.45em 0.6em; margin: 0 0.25em; line-height: 1; border-radius: 0.35em;\">\n",
       "    May to July this year\n",
       "    <span style=\"font-size: 0.8em; font-weight: bold; line-height: 1; border-radius: 0.35em; vertical-align: middle; margin-left: 0.5rem\">date_range</span>\n",
       "</mark>\n",
       ".</div></span>"
      ],
      "text/plain": [
       "<IPython.core.display.HTML object>"
      ]
     },
     "metadata": {},
     "output_type": "display_data"
    },
    {
     "name": "stdout",
     "output_type": "stream",
     "text": [
      "TIME INFERENCE: 4.9149720668792725\n",
      "🤖==========================================================================================🤖\n",
      "\n",
      "\n",
      "{'date_range': 'month of June', 'from_date': '01/06/YYYY', 'to_date': '30/06/YYYY', 'product': 'Sportsbook', 'product_detail': 'All', 'level': 'All', 'user': 'ABCTEST123'}\n",
      "🫂 QUERY: Provide a summary report for the user ABCTEST123 with their activities in the Sportsbook Product during the month of June.\n",
      "😍 ENTITIES: \n"
     ]
    },
    {
     "data": {
      "text/html": [
       "<span class=\"tex2jax_ignore\"><div class=\"entities\" style=\"line-height: 2.5; direction: ltr\">Provide a summary report for the user \n",
       "<mark class=\"entity\" style=\"background: #ddd; padding: 0.45em 0.6em; margin: 0 0.25em; line-height: 1; border-radius: 0.35em;\">\n",
       "    ABCTEST123\n",
       "    <span style=\"font-size: 0.8em; font-weight: bold; line-height: 1; border-radius: 0.35em; vertical-align: middle; margin-left: 0.5rem\">user</span>\n",
       "</mark>\n",
       " with their activities in the \n",
       "<mark class=\"entity\" style=\"background: #bfeeb7; padding: 0.45em 0.6em; margin: 0 0.25em; line-height: 1; border-radius: 0.35em;\">\n",
       "    Sportsbook\n",
       "    <span style=\"font-size: 0.8em; font-weight: bold; line-height: 1; border-radius: 0.35em; vertical-align: middle; margin-left: 0.5rem\">product</span>\n",
       "</mark>\n",
       " Product during the \n",
       "<mark class=\"entity\" style=\"background: #ddd; padding: 0.45em 0.6em; margin: 0 0.25em; line-height: 1; border-radius: 0.35em;\">\n",
       "    month of June\n",
       "    <span style=\"font-size: 0.8em; font-weight: bold; line-height: 1; border-radius: 0.35em; vertical-align: middle; margin-left: 0.5rem\">date_range</span>\n",
       "</mark>\n",
       ".</div></span>"
      ],
      "text/plain": [
       "<IPython.core.display.HTML object>"
      ]
     },
     "metadata": {},
     "output_type": "display_data"
    },
    {
     "name": "stdout",
     "output_type": "stream",
     "text": [
      "TIME INFERENCE: 4.6860973834991455\n",
      "🤖==========================================================================================🤖\n",
      "\n",
      "\n",
      "{'date_range': 'February to April', 'from_date': '01/02/2025', 'to_date': '30/04/2025', 'product': 'Sportsbook', 'product_detail': 'All', 'level': 'All', 'user': 'ABCTEST123'}\n",
      "🫂 QUERY: Please generate a performance report for user ABCTEST123 involved in the Sportsbook Product between February and April.\n",
      "😍 ENTITIES: \n"
     ]
    },
    {
     "data": {
      "text/html": [
       "<span class=\"tex2jax_ignore\"><div class=\"entities\" style=\"line-height: 2.5; direction: ltr\">Please generate a performance report for user \n",
       "<mark class=\"entity\" style=\"background: #ddd; padding: 0.45em 0.6em; margin: 0 0.25em; line-height: 1; border-radius: 0.35em;\">\n",
       "    ABCTEST123\n",
       "    <span style=\"font-size: 0.8em; font-weight: bold; line-height: 1; border-radius: 0.35em; vertical-align: middle; margin-left: 0.5rem\">user</span>\n",
       "</mark>\n",
       " involved in the \n",
       "<mark class=\"entity\" style=\"background: #bfeeb7; padding: 0.45em 0.6em; margin: 0 0.25em; line-height: 1; border-radius: 0.35em;\">\n",
       "    Sportsbook\n",
       "    <span style=\"font-size: 0.8em; font-weight: bold; line-height: 1; border-radius: 0.35em; vertical-align: middle; margin-left: 0.5rem\">product</span>\n",
       "</mark>\n",
       " Product between February and April.</div></span>"
      ],
      "text/plain": [
       "<IPython.core.display.HTML object>"
      ]
     },
     "metadata": {},
     "output_type": "display_data"
    },
    {
     "name": "stdout",
     "output_type": "stream",
     "text": [
      "TIME INFERENCE: 24.246156454086304\n",
      "🤖==========================================================================================🤖\n",
      "\n",
      "\n",
      "{'date_range': 'January 1st to February 15th', 'from_date': '01/01/2025', 'to_date': '15/02/2025', 'product': 'Sportsbook', 'product_detail': 'All', 'level': 'All', 'user': 'A123'}\n",
      "🫂 QUERY: Can you provide a Win/Loss report for user A123, specifically focusing on their activities within the Sportsbook Product during the period of January 1st to February 15th?\n",
      "😍 ENTITIES: \n"
     ]
    },
    {
     "data": {
      "text/html": [
       "<span class=\"tex2jax_ignore\"><div class=\"entities\" style=\"line-height: 2.5; direction: ltr\">Can you provide a Win/Loss report for user \n",
       "<mark class=\"entity\" style=\"background: #ddd; padding: 0.45em 0.6em; margin: 0 0.25em; line-height: 1; border-radius: 0.35em;\">\n",
       "    A123\n",
       "    <span style=\"font-size: 0.8em; font-weight: bold; line-height: 1; border-radius: 0.35em; vertical-align: middle; margin-left: 0.5rem\">user</span>\n",
       "</mark>\n",
       ", specifically focusing on their activities within the \n",
       "<mark class=\"entity\" style=\"background: #bfeeb7; padding: 0.45em 0.6em; margin: 0 0.25em; line-height: 1; border-radius: 0.35em;\">\n",
       "    Sportsbook\n",
       "    <span style=\"font-size: 0.8em; font-weight: bold; line-height: 1; border-radius: 0.35em; vertical-align: middle; margin-left: 0.5rem\">product</span>\n",
       "</mark>\n",
       " Product during the period of \n",
       "<mark class=\"entity\" style=\"background: #ddd; padding: 0.45em 0.6em; margin: 0 0.25em; line-height: 1; border-radius: 0.35em;\">\n",
       "    January 1st to February 15th\n",
       "    <span style=\"font-size: 0.8em; font-weight: bold; line-height: 1; border-radius: 0.35em; vertical-align: middle; margin-left: 0.5rem\">date_range</span>\n",
       "</mark>\n",
       "?</div></span>"
      ],
      "text/plain": [
       "<IPython.core.display.HTML object>"
      ]
     },
     "metadata": {},
     "output_type": "display_data"
    },
    {
     "name": "stdout",
     "output_type": "stream",
     "text": [
      "TIME INFERENCE: 5.157460927963257\n",
      "🤖==========================================================================================🤖\n",
      "\n",
      "\n",
      "{'date_range': 'April 20th to May 30th', 'from_date': '20/04/2025', 'to_date': '30/05/2025', 'product': 'Sportsbook', 'product_detail': 'All', 'level': 'All', 'user': 'B567'}\n",
      "🫂 QUERY: I need the performance summary of user B567 in the Sportsbook Product from April 20th to May 30th.\n",
      "😍 ENTITIES: \n"
     ]
    },
    {
     "data": {
      "text/html": [
       "<span class=\"tex2jax_ignore\"><div class=\"entities\" style=\"line-height: 2.5; direction: ltr\">I need the performance summary of user \n",
       "<mark class=\"entity\" style=\"background: #ddd; padding: 0.45em 0.6em; margin: 0 0.25em; line-height: 1; border-radius: 0.35em;\">\n",
       "    B567\n",
       "    <span style=\"font-size: 0.8em; font-weight: bold; line-height: 1; border-radius: 0.35em; vertical-align: middle; margin-left: 0.5rem\">user</span>\n",
       "</mark>\n",
       " in the \n",
       "<mark class=\"entity\" style=\"background: #bfeeb7; padding: 0.45em 0.6em; margin: 0 0.25em; line-height: 1; border-radius: 0.35em;\">\n",
       "    Sportsbook\n",
       "    <span style=\"font-size: 0.8em; font-weight: bold; line-height: 1; border-radius: 0.35em; vertical-align: middle; margin-left: 0.5rem\">product</span>\n",
       "</mark>\n",
       " Product from \n",
       "<mark class=\"entity\" style=\"background: #ddd; padding: 0.45em 0.6em; margin: 0 0.25em; line-height: 1; border-radius: 0.35em;\">\n",
       "    April 20th to May 30th\n",
       "    <span style=\"font-size: 0.8em; font-weight: bold; line-height: 1; border-radius: 0.35em; vertical-align: middle; margin-left: 0.5rem\">date_range</span>\n",
       "</mark>\n",
       ".</div></span>"
      ],
      "text/plain": [
       "<IPython.core.display.HTML object>"
      ]
     },
     "metadata": {},
     "output_type": "display_data"
    },
    {
     "name": "stdout",
     "output_type": "stream",
     "text": [
      "TIME INFERENCE: 5.156300067901611\n",
      "🤖==========================================================================================🤖\n",
      "\n",
      "\n",
      "{'date_range': 'June 5th to July 1st', 'from_date': '05/06/2025', 'to_date': '01/07/2025', 'product': 'Sportsbook', 'product_detail': 'All', 'level': 'All', 'user': 'C890'}\n",
      "🫂 QUERY: Generate a report for user C890's performance in the Sportsbook Product between June 5th and July 1st.\n",
      "😍 ENTITIES: \n"
     ]
    },
    {
     "data": {
      "text/html": [
       "<span class=\"tex2jax_ignore\"><div class=\"entities\" style=\"line-height: 2.5; direction: ltr\">Generate a report for user \n",
       "<mark class=\"entity\" style=\"background: #ddd; padding: 0.45em 0.6em; margin: 0 0.25em; line-height: 1; border-radius: 0.35em;\">\n",
       "    C890\n",
       "    <span style=\"font-size: 0.8em; font-weight: bold; line-height: 1; border-radius: 0.35em; vertical-align: middle; margin-left: 0.5rem\">user</span>\n",
       "</mark>\n",
       "'s performance in the \n",
       "<mark class=\"entity\" style=\"background: #bfeeb7; padding: 0.45em 0.6em; margin: 0 0.25em; line-height: 1; border-radius: 0.35em;\">\n",
       "    Sportsbook\n",
       "    <span style=\"font-size: 0.8em; font-weight: bold; line-height: 1; border-radius: 0.35em; vertical-align: middle; margin-left: 0.5rem\">product</span>\n",
       "</mark>\n",
       " Product between June 5th and July 1st.</div></span>"
      ],
      "text/plain": [
       "<IPython.core.display.HTML object>"
      ]
     },
     "metadata": {},
     "output_type": "display_data"
    },
    {
     "name": "stdout",
     "output_type": "stream",
     "text": [
      "TIME INFERENCE: 5.057621240615845\n",
      "🤖==========================================================================================🤖\n",
      "\n",
      "\n",
      "{'date_range': 'July 15th to August 20th', 'from_date': '15/07/2023', 'to_date': '20/08/2023', 'product': 'Sportsbook', 'product_detail': 'All', 'level': 'All', 'user': 'D123'}\n",
      "🫂 QUERY: Provide a detailed performance report for user D123 in the Sportsbook Product covering July 15th to August 20th.\n",
      "😍 ENTITIES: \n"
     ]
    },
    {
     "data": {
      "text/html": [
       "<span class=\"tex2jax_ignore\"><div class=\"entities\" style=\"line-height: 2.5; direction: ltr\">Provide a detailed performance report for user \n",
       "<mark class=\"entity\" style=\"background: #ddd; padding: 0.45em 0.6em; margin: 0 0.25em; line-height: 1; border-radius: 0.35em;\">\n",
       "    D123\n",
       "    <span style=\"font-size: 0.8em; font-weight: bold; line-height: 1; border-radius: 0.35em; vertical-align: middle; margin-left: 0.5rem\">user</span>\n",
       "</mark>\n",
       " in the \n",
       "<mark class=\"entity\" style=\"background: #bfeeb7; padding: 0.45em 0.6em; margin: 0 0.25em; line-height: 1; border-radius: 0.35em;\">\n",
       "    Sportsbook\n",
       "    <span style=\"font-size: 0.8em; font-weight: bold; line-height: 1; border-radius: 0.35em; vertical-align: middle; margin-left: 0.5rem\">product</span>\n",
       "</mark>\n",
       " Product covering \n",
       "<mark class=\"entity\" style=\"background: #ddd; padding: 0.45em 0.6em; margin: 0 0.25em; line-height: 1; border-radius: 0.35em;\">\n",
       "    July 15th to August 20th\n",
       "    <span style=\"font-size: 0.8em; font-weight: bold; line-height: 1; border-radius: 0.35em; vertical-align: middle; margin-left: 0.5rem\">date_range</span>\n",
       "</mark>\n",
       ".</div></span>"
      ],
      "text/plain": [
       "<IPython.core.display.HTML object>"
      ]
     },
     "metadata": {},
     "output_type": "display_data"
    },
    {
     "name": "stdout",
     "output_type": "stream",
     "text": [
      "TIME INFERENCE: 5.158004999160767\n",
      "🤖==========================================================================================🤖\n",
      "\n",
      "\n",
      "{'date_range': 'September 10th to October 1st', 'from_date': '10/09/2025', 'to_date': '01/10/2025', 'product': 'Sportsbook', 'product_detail': 'All', 'level': 'All', 'user': 'E456'}\n",
      "🫂 QUERY: Could you compile a performance report for user E456 in the Sportsbook Product from September 10th to October 1st?\n",
      "😍 ENTITIES: \n"
     ]
    },
    {
     "data": {
      "text/html": [
       "<span class=\"tex2jax_ignore\"><div class=\"entities\" style=\"line-height: 2.5; direction: ltr\">Could you compile a performance report for user \n",
       "<mark class=\"entity\" style=\"background: #ddd; padding: 0.45em 0.6em; margin: 0 0.25em; line-height: 1; border-radius: 0.35em;\">\n",
       "    E456\n",
       "    <span style=\"font-size: 0.8em; font-weight: bold; line-height: 1; border-radius: 0.35em; vertical-align: middle; margin-left: 0.5rem\">user</span>\n",
       "</mark>\n",
       " in the \n",
       "<mark class=\"entity\" style=\"background: #bfeeb7; padding: 0.45em 0.6em; margin: 0 0.25em; line-height: 1; border-radius: 0.35em;\">\n",
       "    Sportsbook\n",
       "    <span style=\"font-size: 0.8em; font-weight: bold; line-height: 1; border-radius: 0.35em; vertical-align: middle; margin-left: 0.5rem\">product</span>\n",
       "</mark>\n",
       " Product from \n",
       "<mark class=\"entity\" style=\"background: #ddd; padding: 0.45em 0.6em; margin: 0 0.25em; line-height: 1; border-radius: 0.35em;\">\n",
       "    September 10th to October 1st\n",
       "    <span style=\"font-size: 0.8em; font-weight: bold; line-height: 1; border-radius: 0.35em; vertical-align: middle; margin-left: 0.5rem\">date_range</span>\n",
       "</mark>\n",
       "?</div></span>"
      ],
      "text/plain": [
       "<IPython.core.display.HTML object>"
      ]
     },
     "metadata": {},
     "output_type": "display_data"
    },
    {
     "name": "stdout",
     "output_type": "stream",
     "text": [
      "TIME INFERENCE: 5.095315456390381\n",
      "🤖==========================================================================================🤖\n",
      "\n",
      "\n"
     ]
    }
   ],
   "source": [
    "import json\n",
    "\n",
    "with open(r'D:\\Desktop\\AlphaReportChatbot\\src\\notebook\\research\\correct_arb_datasets.json', 'r') as file:\n",
    "    data = json.load(file)\n",
    "\n",
    "queries2 = [t['query'] for t in data]\n",
    "\n",
    "test(queries=queries2)"
   ]
  },
  {
   "cell_type": "code",
   "execution_count": null,
   "metadata": {},
   "outputs": [],
   "source": []
  }
 ],
 "metadata": {
  "kernelspec": {
   "display_name": "langchain",
   "language": "python",
   "name": "python3"
  },
  "language_info": {
   "codemirror_mode": {
    "name": "ipython",
    "version": 3
   },
   "file_extension": ".py",
   "mimetype": "text/x-python",
   "name": "python",
   "nbconvert_exporter": "python",
   "pygments_lexer": "ipython3",
   "version": "3.11.11"
  }
 },
 "nbformat": 4,
 "nbformat_minor": 2
}
